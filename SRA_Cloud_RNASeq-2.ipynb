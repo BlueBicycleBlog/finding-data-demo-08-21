{
 "cells": [
  {
   "cell_type": "code",
   "execution_count": null,
   "id": "b68cd59b",
   "metadata": {},
   "outputs": [],
   "source": [
    "!sudo cp -r sratoolkit.2.11.0-ubuntu64/bin/* /usr/local/bin"
   ]
  },
  {
   "cell_type": "code",
   "execution_count": null,
   "id": "69633db1",
   "metadata": {},
   "outputs": [],
   "source": [
    "!sudo tljh-config set services.cull.timeout 14400\n",
    "!sudo tljh-config reload"
   ]
  },
  {
   "cell_type": "code",
   "execution_count": null,
   "id": "3393d81c",
   "metadata": {},
   "outputs": [],
   "source": [
    "!vdb-config --report-cloud-identity yes"
   ]
  },
  {
   "cell_type": "code",
   "execution_count": 1,
   "id": "d25d09eb",
   "metadata": {},
   "outputs": [
    {
     "name": "stdout",
     "output_type": "stream",
     "text": [
      "Cloud Environment:\r\n",
      "Current Cloud: Google\r\n",
      "Cloud Settings:\r\n",
      "\r\n",
      "Report Cloud Instance Identity: yes\r\n",
      "AWS:\r\n",
      "  Accept Charges for AWS Usage: no\r\n",
      "  AWS Profile: 'default'\r\n",
      "\r\n",
      "GCP:\r\n",
      "  Accept Charges for CGP Usage: no\r\n",
      "\r\n",
      "\r\n",
      "Tools:\r\n",
      "  Prefetch downloads to Public User Repository when it is set\r\n",
      "\r\n",
      "\r\n",
      "To change Cloud-related Settings run:\r\n",
      "  vdb-config --interactive\r\n",
      "\r\n",
      "Cloud-related Command-Line Arguments:\r\n",
      "  vdb-config --cloud-info\r\n",
      "\r\n",
      "  vdb-config --report-cloud-identity <yes|no>\r\n",
      "  vdb-config --accept-aws-charges <yes|no>\r\n",
      "  vdb-config --set-aws-credentials <Path to AWS Credentials File>\r\n",
      "  vdb-config --set-aws-profile <AWS Profile>\r\n",
      "  vdb-config --accept-gcp-charges <yes|no>\r\n",
      "  vdb-config --set-gcp-credentials <Path to GCP Credentials File>\r\n",
      "\r\n",
      "  vdb-config --prefetch-to-cwd\r\n",
      "  vdb-config --prefetch-to-user-repo\r\n",
      "\r\n",
      "  vdb-config --help\r\n"
     ]
    }
   ],
   "source": [
    "!vdb-config -C"
   ]
  },
  {
   "cell_type": "code",
   "execution_count": null,
   "id": "266943d1",
   "metadata": {},
   "outputs": [],
   "source": [
    "GUID = !uuidgen"
   ]
  },
  {
   "cell_type": "code",
   "execution_count": null,
   "id": "48a021c2",
   "metadata": {},
   "outputs": [],
   "source": [
    "GUID = str(GUID).strip('[]')"
   ]
  },
  {
   "cell_type": "code",
   "execution_count": null,
   "id": "3c976daf",
   "metadata": {},
   "outputs": [],
   "source": [
    "!echo $GUID"
   ]
  },
  {
   "cell_type": "code",
   "execution_count": null,
   "id": "526b6997",
   "metadata": {},
   "outputs": [],
   "source": [
    "!vdb-config --set LIBS/GUID={GUID}"
   ]
  },
  {
   "cell_type": "code",
   "execution_count": null,
   "id": "3d062959",
   "metadata": {},
   "outputs": [],
   "source": [
    "!vdb-config --report-cloud-identity yes"
   ]
  },
  {
   "cell_type": "code",
   "execution_count": null,
   "id": "6bd5ed69",
   "metadata": {},
   "outputs": [],
   "source": [
    "!vdb-config --set /repository/user/main/public/cache-disabled=true"
   ]
  },
  {
   "cell_type": "code",
   "execution_count": null,
   "id": "98f2a7b7",
   "metadata": {},
   "outputs": [],
   "source": [
    "!cat $HOME/.ncbi/user-settings.mkfg"
   ]
  },
  {
   "cell_type": "code",
   "execution_count": 2,
   "id": "fb1d4801",
   "metadata": {},
   "outputs": [
    {
     "name": "stdout",
     "output_type": "stream",
     "text": [
      "SRR3241527\r\n",
      "SRR3241528\r\n",
      "SRR3241529\r\n",
      "SRR3241530\r\n",
      "SRR3241531\r\n",
      "SRR3241532\r\n",
      "SRR3241533\r\n",
      "SRR3241534\r\n",
      "SRR3241535\r\n",
      "SRR3241536\r\n",
      "SRR3241537\r\n",
      "SRR3241538"
     ]
    }
   ],
   "source": [
    "!cat accessionlist.txt"
   ]
  },
  {
   "cell_type": "code",
   "execution_count": null,
   "id": "5fe0ef58",
   "metadata": {},
   "outputs": [],
   "source": [
    "!cat accessionlist.txt | xargs -P 8 -n 1 fastq-dump -X 1000000 -O data"
   ]
  },
  {
   "cell_type": "code",
   "execution_count": 5,
   "id": "a8d6b235",
   "metadata": {},
   "outputs": [
    {
     "name": "stdout",
     "output_type": "stream",
     "text": [
      "\r\n",
      "Usage: fastq-dump [ options ] [ accessions(s)... ]\r\n",
      "\r\n",
      "Parameters:\r\n",
      "\r\n",
      "  accessions(s)                    list of accessions to process\r\n",
      "\r\n",
      "\r\n",
      "Options:\r\n",
      "\r\n",
      "  -A|--accession <accession>       Replaces accession derived from <path> in\r\n",
      "                                     filename(s) and deflines (only for\r\n",
      "                                     single table dump)\r\n",
      "     --table <table-name>          Table name within cSRA object, default is\r\n",
      "                                     \"SEQUENCE\"\r\n",
      "     --split-spot                  Split spots into individual reads\r\n",
      "  -N|--minSpotId <rowid>           Minimum spot id\r\n",
      "  -X|--maxSpotId <rowid>           Maximum spot id\r\n",
      "     --spot-groups <[list]>[,...]  Filter by SPOT_GROUP (member): name[,...]\r\n",
      "  -W|--clip                        Remove adapter sequences from reads\r\n",
      "  -M|--minReadLen <len>            Filter by sequence length >= <len>\r\n",
      "  -R|--read-filter <filter>        Split into files by READ_FILTER value\r\n",
      "                                     [split], optionally filter by value:\r\n",
      "                                     [pass|reject|criteria|redacted]\r\n",
      "  -E|--qual-filter                 Filter used in early 1000 Genomes data: no\r\n",
      "                                     sequences starting or ending with >= 10N\r\n",
      "     --qual-filter-1               Filter used in current 1000 Genomes data\r\n",
      "     --aligned                     Dump only aligned sequences\r\n",
      "     --unaligned                   Dump only unaligned sequences\r\n",
      "     --aligned-region <name[:from-to]>\r\n",
      "                                   Filter by position on genome. Name can\r\n",
      "                                     eiter by accession.version (ex:\r\n",
      "                                     NC_000001.10) or file specific name (ex:\r\n",
      "                                     \"chr1\" or \"1\". \"from\" and \"to\" are\r\n",
      "                                     1-based coordinates\r\n",
      "     --matepair_distance <from-to|unknown>\r\n",
      "                                   Filter by distance between matepairs. Use\r\n",
      "                                     \"unknown\" to find matepairs split\r\n",
      "                                     between the references. Use from-to to\r\n",
      "                                     limit matepair distance on the same\r\n",
      "                                     reference\r\n",
      "     --skip-technical              Dump only biological reads\r\n",
      "  -O|--outdir <path>               Output directory, default is working\r\n",
      "                                     directory '.'\r\n",
      "  -Z|--stdout                      Output to stdout, all split data become\r\n",
      "                                     joined into single stream\r\n",
      "     --gzip                        Compress output using gzip: deprecated,\r\n",
      "                                     not recommended\r\n",
      "     --bzip2                       Compress output using bzip2: deprecated,\r\n",
      "                                     not recommended\r\n",
      "     --split-files                 Write reads into separate files. Read\r\n",
      "                                     number will be suffixed to the file\r\n",
      "                                     name. NOTE! The `--split-3` option is\r\n",
      "                                     recommended. In cases where not all\r\n",
      "                                     spots have the same number of reads,\r\n",
      "                                     this option will produce files that WILL\r\n",
      "                                     CAUSE ERRORS in most programs which\r\n",
      "                                     process split pair fastq files.\r\n",
      "     --split-3                     3-way splitting for mate-pairs. For each\r\n",
      "                                     spot, if there are two biological reads\r\n",
      "                                     satisfying filter conditions, the first\r\n",
      "                                     is placed in the `*_1.fastq` file, and\r\n",
      "                                     the second is placed in the `*_2.fastq`\r\n",
      "                                     file. If there is only one biological\r\n",
      "                                     read satisfying the filter conditions,\r\n",
      "                                     it is placed in the `*.fastq` file.All\r\n",
      "                                     other reads in the spot are ignored.\r\n",
      "  -G|--spot-group                  Split into files by SPOT_GROUP (member\r\n",
      "                                     name)\r\n",
      "  -T|--group-in-dirs               Split into subdirectories instead of files\r\n",
      "  -K|--keep-empty-files            Do not delete empty files\r\n",
      "  -C|--dumpcs <cskey>              Formats sequence using color space\r\n",
      "                                     (default for SOLiD), \"cskey\" may be\r\n",
      "                                     specified for translation or else\r\n",
      "                                     specify \"dflt\" to use the default value\r\n",
      "  -B|--dumpbase                    Formats sequence using base space (default\r\n",
      "                                     for other than SOLiD).\r\n",
      "  -Q|--offset <integer             Offset to use for quality conversion,\r\n",
      "                                     default is 33\r\n",
      "     --fasta <line-width>          FASTA only, no qualities, with can be\r\n",
      "                                     \"default\" or \"0\" for no wrapping\r\n",
      "     --suppress-qual-for-cskey     suppress quality-value for cskey\r\n",
      "  -F|--origfmt                     Defline contains only original sequence\r\n",
      "                                     name\r\n",
      "  -I|--readids                     Append read id after spot id as\r\n",
      "                                     'accession.spot.readid' on defline\r\n",
      "     --helicos                     Helicos style defline\r\n",
      "     --defline-seq <fmt>           Defline format specification for sequence.\r\n",
      "     --defline-qual <fmt>          Defline format specification for quality.\r\n",
      "                                     <fmt> is string of characters and/or\r\n",
      "                                     variables. The variables can be one of:\r\n",
      "                                     $ac - accession, $si spot id, $sn spot\r\n",
      "                                     name, $sg spot group (barcode), $sl spot\r\n",
      "                                     length in bases, $ri read number, $rn\r\n",
      "                                     read name, $rl read length in bases.\r\n",
      "                                     '[]' could be used for an optional\r\n",
      "                                     output: if all vars in [] yield empty\r\n",
      "                                     values whole group is not printed. Empty\r\n",
      "                                     value is empty string or for numeric\r\n",
      "                                     variables. Ex: @$sn[_$rn]/$ri '_$rn' is\r\n",
      "                                     omitted if name is empty\r\n",
      "     --ngc <path>                  <path> to ngc file\r\n",
      "     --perm <path>                 <path> to permission file\r\n",
      "     --location <location>         location in cloud\r\n",
      "     --cart <path>                 <path> to cart file\r\n",
      "     --disable-multithreading      disable multithreading\r\n",
      "  -V|--version                     Display the version of the program\r\n",
      "  -v|--verbose                     Increase the verbosity of the program\r\n",
      "                                     status messages. Use multiple times for\r\n",
      "                                     more verbosity.\r\n",
      "  -L|--log-level <level>           Logging level as number or enum string.\r\n",
      "                                     One of\r\n",
      "                                     (fatal|sys|int|err|warn|info|debug) or\r\n",
      "                                     (0-6) Current/default is warn\r\n",
      "     --option-file file            Read more options and parameters from the\r\n",
      "                                     file.\r\n",
      "  -h|--help                        print this message\r\n",
      "\r\n",
      "\"fastq-dump\" version 2.11.0\r\n",
      "\r\n"
     ]
    }
   ],
   "source": [
    "!fastq-dump -help"
   ]
  },
  {
   "cell_type": "code",
   "execution_count": null,
   "id": "30330c40",
   "metadata": {},
   "outputs": [],
   "source": [
    "#!efetch -id NC_037289.1 -db nuccore -format fasta > NC_037289.1.fna"
   ]
  },
  {
   "cell_type": "code",
   "execution_count": null,
   "id": "d5035772",
   "metadata": {},
   "outputs": [],
   "source": [
    "!datasets download genome accession GCF_000002775.4 --chromosomes 5 --include-gtf --exclude-protein --exclude-rna\n",
    " "
   ]
  },
  {
   "cell_type": "code",
   "execution_count": null,
   "id": "4b131c60",
   "metadata": {},
   "outputs": [],
   "source": [
    "!curl -o datasets 'https://ftp.ncbi.nlm.nih.gov/pub/datasets/command-line/LATEST/linux-amd64/datasets'"
   ]
  },
  {
   "cell_type": "code",
   "execution_count": null,
   "id": "a62938d2",
   "metadata": {},
   "outputs": [],
   "source": [
    "!sudo chmod +x datasets\n"
   ]
  },
  {
   "cell_type": "code",
   "execution_count": null,
   "id": "8e315df4",
   "metadata": {},
   "outputs": [],
   "source": [
    "!sudo cp -r ./datasets* /usr/local/bin"
   ]
  },
  {
   "cell_type": "code",
   "execution_count": null,
   "id": "fff7e853",
   "metadata": {},
   "outputs": [],
   "source": [
    "!datasets help download\n"
   ]
  },
  {
   "cell_type": "code",
   "execution_count": null,
   "id": "d32c54c0",
   "metadata": {},
   "outputs": [],
   "source": [
    "!unzip ncbi_dataset.zip"
   ]
  },
  {
   "cell_type": "code",
   "execution_count": null,
   "id": "11620ce4",
   "metadata": {},
   "outputs": [],
   "source": [
    "!grep -m 6 \"^#\" ncbi_dataset/data/GCF_000002775.4/genomic.gff > Pt.chrom5.gff"
   ]
  },
  {
   "cell_type": "code",
   "execution_count": null,
   "id": "8c478e21",
   "metadata": {},
   "outputs": [],
   "source": [
    "!grep \"^#\" ncbi_dataset/data/GCF_000002775.4/genomic.gtf > Pt.chrom5.gtf"
   ]
  },
  {
   "cell_type": "code",
   "execution_count": null,
   "id": "fca610ca",
   "metadata": {},
   "outputs": [],
   "source": [
    "!cat Pt.chrom5.gff"
   ]
  },
  {
   "cell_type": "code",
   "execution_count": null,
   "id": "942b9594",
   "metadata": {},
   "outputs": [],
   "source": [
    "!grep \"NC_037289.1\" ncbi_dataset/data/GCF_000002775.4/genomic.gff >> Pt.chrom5.gff"
   ]
  },
  {
   "cell_type": "code",
   "execution_count": null,
   "id": "11ce8294",
   "metadata": {},
   "outputs": [],
   "source": [
    "!grep \"NC_037289.1\" ncbi_dataset/data/GCF_000002775.4/genomic.gtf >> Pt.chrom5.gtf"
   ]
  },
  {
   "cell_type": "code",
   "execution_count": null,
   "id": "78619b27",
   "metadata": {},
   "outputs": [],
   "source": [
    "!sudo chmod +x /usr/local/bin/datasets"
   ]
  },
  {
   "cell_type": "code",
   "execution_count": null,
   "id": "a27e3f36",
   "metadata": {},
   "outputs": [],
   "source": [
    "!datasets"
   ]
  },
  {
   "cell_type": "code",
   "execution_count": null,
   "id": "136cc032",
   "metadata": {},
   "outputs": [],
   "source": [
    "!head ncbi_dataset/data/GCF_000002775.4/chr5.fna "
   ]
  },
  {
   "cell_type": "code",
   "execution_count": null,
   "id": "6c58ec36",
   "metadata": {},
   "outputs": [],
   "source": [
    "!wget https://ftp.ncbi.nlm.nih.gov/blast/executables/blast+/LATEST/ncbi-blast-2.12.0+-x64-linux.tar.gz"
   ]
  },
  {
   "cell_type": "code",
   "execution_count": null,
   "id": "58477e94",
   "metadata": {},
   "outputs": [],
   "source": [
    "!tar -xvf ncbi-blast-2.12.0+-x64-linux.tar.gz"
   ]
  },
  {
   "cell_type": "code",
   "execution_count": null,
   "id": "a9439da1",
   "metadata": {},
   "outputs": [],
   "source": [
    "!sudo cp -r ncbi-blast-2.12.0+/bin/* /usr/local/bin"
   ]
  },
  {
   "cell_type": "code",
   "execution_count": null,
   "id": "b8c8a1ca",
   "metadata": {},
   "outputs": [],
   "source": [
    "!makeblastdb -in ncbi_dataset/data/GCF_000002775.4/chr5.fna -dbtype nucl -parse_seqids -out Pt.chrom5\n"
   ]
  },
  {
   "cell_type": "code",
   "execution_count": null,
   "id": "659c1df8",
   "metadata": {},
   "outputs": [],
   "source": [
    "!wget https://ftp.ncbi.nlm.nih.gov/blast/executables/magicblast/LATEST/ncbi-magicblast-1.6.0-x64-linux.tar.gz"
   ]
  },
  {
   "cell_type": "code",
   "execution_count": null,
   "id": "eb203e49",
   "metadata": {},
   "outputs": [],
   "source": [
    "!tar -xvf ncbi-magicblast-1.6.0-x64-linux.tar.gz"
   ]
  },
  {
   "cell_type": "code",
   "execution_count": null,
   "id": "9cd126bd",
   "metadata": {},
   "outputs": [],
   "source": [
    "!sudo cp -r ncbi-magicblast-1.6.0/bin/* /usr/local/bin"
   ]
  },
  {
   "cell_type": "code",
   "execution_count": null,
   "id": "127b267b",
   "metadata": {},
   "outputs": [],
   "source": [
    "!magicblast -help"
   ]
  },
  {
   "cell_type": "code",
   "execution_count": null,
   "id": "66f2cacc",
   "metadata": {},
   "outputs": [],
   "source": [
    "!sudo apt update -y\n",
    "!sudo apt install samtools -y\n"
   ]
  },
  {
   "cell_type": "code",
   "execution_count": null,
   "id": "cf4dd44f",
   "metadata": {},
   "outputs": [],
   "source": [
    "!mkdir bams"
   ]
  },
  {
   "cell_type": "code",
   "execution_count": null,
   "id": "3c9ce308",
   "metadata": {},
   "outputs": [],
   "source": [
    "!magicblast -query data/SRR3241528.fastq -db Pt.chrom5 -paired -splice T -num_threads 8  -no_unaligned -infmt fastq | \\\n",
    "samtools view -bS | samtools sort -o bams/SRR3241528.bam -O BAM"
   ]
  },
  {
   "cell_type": "code",
   "execution_count": null,
   "id": "58c62523",
   "metadata": {},
   "outputs": [],
   "source": [
    "!ls data"
   ]
  },
  {
   "cell_type": "code",
   "execution_count": null,
   "id": "d8d38c4e",
   "metadata": {},
   "outputs": [],
   "source": [
    "!cat accessionlist.txt| while read i; do \\\n",
    "magicblast -query data/$i.fastq -db Pt.chrom5 -paired -splice T -num_threads 8  -no_unaligned -infmt fastq | \\\n",
    "samtools view -bS | samtools sort -o bams/$i.bam -O BAM ; done"
   ]
  },
  {
   "cell_type": "code",
   "execution_count": null,
   "id": "92fc1b05",
   "metadata": {},
   "outputs": [],
   "source": [
    "!cp -r /bams  /am/ftp-pub/education/public_webinars/2021/08Aug18_Res_Org_2/"
   ]
  },
  {
   "cell_type": "code",
   "execution_count": null,
   "id": "3a3c46bc",
   "metadata": {},
   "outputs": [],
   "source": [
    "!pwd"
   ]
  },
  {
   "cell_type": "code",
   "execution_count": null,
   "id": "3700aacd",
   "metadata": {},
   "outputs": [],
   "source": [
    "!for i in bams/*.bam; do samtools index $i; done"
   ]
  },
  {
   "cell_type": "code",
   "execution_count": null,
   "id": "6c1a778c",
   "metadata": {},
   "outputs": [],
   "source": [
    "!samtools view bams/SRR3241527.bam | head"
   ]
  },
  {
   "cell_type": "code",
   "execution_count": null,
   "id": "85feb256",
   "metadata": {},
   "outputs": [],
   "source": []
  }
 ],
 "metadata": {
  "kernelspec": {
   "display_name": "Python 3 (ipykernel)",
   "language": "python",
   "name": "python3"
  },
  "language_info": {
   "codemirror_mode": {
    "name": "ipython",
    "version": 3
   },
   "file_extension": ".py",
   "mimetype": "text/x-python",
   "name": "python",
   "nbconvert_exporter": "python",
   "pygments_lexer": "ipython3",
   "version": "3.7.3"
  }
 },
 "nbformat": 4,
 "nbformat_minor": 5
}
