{
  "cells": [
    {
      "cell_type": "markdown",
      "metadata": {
        "id": "view-in-github",
        "colab_type": "text"
      },
      "source": [
        "<a href=\"https://colab.research.google.com/github/BlueBicycleBlog/finding-data-demo-08-21/blob/master/SRA_Cloud_RNASeq-demo-Google_CoLab.ipynb\" target=\"_parent\"><img src=\"https://colab.research.google.com/assets/colab-badge.svg\" alt=\"Open In Colab\"/></a>"
      ]
    },
    {
      "cell_type": "markdown",
      "id": "automotive-stretch",
      "metadata": {
        "id": "automotive-stretch"
      },
      "source": [
        "# Demo notebook for \"Finding Data for your Research Organism: Plants and RNASeq Data\"\n",
        "\n",
        "This notebook was originally part of a webinar presentation to demonstrate a variety of NCBI tools: SRA toolkit, NCBI Datasets, MagicBlast and Genome Data Viewer.\n",
        "\n",
        "A few changes have been made to make sure this notebook works in 2024, but for the most part a very good guide on this notebook can be found by watching the youtube video.\n",
        "\n",
        "[Link to the Youtube Video](https://www.youtube.com/watch?v=BBBKt7Z3bt8)\n",
        "\n",
        "![Youtube Video](https://github.com/BlueBicycleBlog/finding-data-demo-08-21/blob/master/img/youtube.png?raw=1)\n",
        "\n",
        "\n",
        "\n",
        "A brief summary of the dataset from BioProjects at NCBI\n",
        "\n",
        "![Bioproject Summary](https://github.com/BlueBicycleBlog/finding-data-demo-08-21/blob/master/img/bioproject.png?raw=1)\n",
        "\n",
        "\n",
        "[A weblink with more details](https://www.ncbi.nlm.nih.gov/bioproject?term=320374[top+bioproject]+NOT+320378[uid])"
      ]
    },
    {
      "cell_type": "markdown",
      "id": "b080e89b-561a-4896-b0e4-73d69863072a",
      "metadata": {
        "id": "b080e89b-561a-4896-b0e4-73d69863072a"
      },
      "source": [
        "### How to Run this Notebook if Not in the Binder (e.g. Codespace or Google CoLab)\n",
        "\n",
        "If you are not running in the binder, then some conda installs will need to be done  before using this notebook\n",
        "\n",
        "For Google CoLab only, run this code cell.\n",
        "\n",
        "It is okay if it says that the kernel has crashed -- it is supposed to restart.\n",
        "\n",
        "\n"
      ]
    },
    {
      "cell_type": "code",
      "source": [
        "%%capture\n",
        "!pip install -q condacolab\n",
        "import condacolab\n",
        "condacolab.install()"
      ],
      "metadata": {
        "colab": {
          "base_uri": "https://localhost:8080/"
        },
        "id": "8_IlR83fORcc",
        "outputId": "cd511502-12b3-4f17-df26-988b5b7e5b9e"
      },
      "id": "8_IlR83fORcc",
      "execution_count": 3,
      "outputs": [
        {
          "output_type": "stream",
          "name": "stdout",
          "text": [
            "⏬ Downloading https://github.com/conda-forge/miniforge/releases/download/23.11.0-0/Mambaforge-23.11.0-0-Linux-x86_64.sh...\n",
            "📦 Installing...\n",
            "📌 Adjusting configuration...\n",
            "🩹 Patching environment...\n",
            "⏲ Done in 0:00:11\n",
            "🔁 Restarting kernel...\n"
          ]
        }
      ]
    },
    {
      "cell_type": "markdown",
      "source": [
        "For Codespace AND Google CoLab, continue to install.\n",
        "\n",
        "\n",
        "This will take a few minutes the first time."
      ],
      "metadata": {
        "id": "qdiW6u-nOPZC"
      },
      "id": "qdiW6u-nOPZC"
    },
    {
      "cell_type": "code",
      "execution_count": 28,
      "id": "80b63d2a-734d-4c97-8b77-efb364971d82",
      "metadata": {
        "scrolled": true,
        "colab": {
          "base_uri": "https://localhost:8080/"
        },
        "id": "80b63d2a-734d-4c97-8b77-efb364971d82",
        "outputId": "8d9efc83-ca72-4865-f5ca-1ee818d8379d"
      },
      "outputs": [
        {
          "output_type": "stream",
          "name": "stdout",
          "text": [
            "Channels:\n",
            " - conda-forge\n",
            " - bioconda\n",
            "Platform: linux-64\n",
            "Collecting package metadata (repodata.json): - \b\b\\ \b\b| \b\b/ \b\b- \b\b\\ \b\b| \b\b/ \b\b- \b\b\\ \b\b| \b\b/ \b\b- \b\b\\ \b\bdone\n",
            "Solving environment: / \b\b- \b\b\\ \b\b| \b\bdone\n",
            "\n",
            "## Package Plan ##\n",
            "\n",
            "  environment location: /usr/local\n",
            "\n",
            "  added / updated specs:\n",
            "    - bioconda::magicblast\n",
            "\n",
            "\n",
            "The following packages will be downloaded:\n",
            "\n",
            "    package                    |            build\n",
            "    ---------------------------|-----------------\n",
            "    conda-23.1.0               |  py310hff52083_0         918 KB  conda-forge\n",
            "    conda-libmamba-solver-23.1.0|     pyhd8ed1ab_0          39 KB  conda-forge\n",
            "    cryptography-43.0.1        |  py310h6c63255_0         1.4 MB  conda-forge\n",
            "    fmt-9.1.0                  |       h924138e_0         185 KB  conda-forge\n",
            "    icu-70.1                   |       h27087fc_0        13.5 MB  conda-forge\n",
            "    importlib-metadata-8.5.0   |     pyha770c72_0          28 KB  conda-forge\n",
            "    libarchive-3.5.2           |       hada088e_3         1.6 MB  conda-forge\n",
            "    libmamba-1.1.0             |       h70b1f8a_2         1.4 MB  conda-forge\n",
            "    libmambapy-1.1.0           |  py310h69aa5bf_2         307 KB  conda-forge\n",
            "    libxml2-2.9.14             |       h22db469_4         771 KB  conda-forge\n",
            "    magicblast-1.7.0           |       hf1761c0_0        11.1 MB  bioconda\n",
            "    mamba-1.1.0                |  py310h51d5547_2          48 KB  conda-forge\n",
            "    pyopenssl-24.2.1           |     pyhd8ed1ab_2         125 KB  conda-forge\n",
            "    ruamel.yaml-0.17.40        |  py310h2372a71_0         196 KB  conda-forge\n",
            "    toolz-0.12.1               |     pyhd8ed1ab_0          51 KB  conda-forge\n",
            "    yaml-cpp-0.7.0             |       h59595ed_3         203 KB  conda-forge\n",
            "    zipp-3.20.2                |     pyhd8ed1ab_0          21 KB  conda-forge\n",
            "    ------------------------------------------------------------\n",
            "                                           Total:        31.9 MB\n",
            "\n",
            "The following NEW packages will be INSTALLED:\n",
            "\n",
            "  cryptography       conda-forge/linux-64::cryptography-43.0.1-py310h6c63255_0 \n",
            "  importlib-metadata conda-forge/noarch::importlib-metadata-8.5.0-pyha770c72_0 \n",
            "  magicblast         bioconda/linux-64::magicblast-1.7.0-hf1761c0_0 \n",
            "  pyopenssl          conda-forge/noarch::pyopenssl-24.2.1-pyhd8ed1ab_2 \n",
            "  toolz              conda-forge/noarch::toolz-0.12.1-pyhd8ed1ab_0 \n",
            "  zipp               conda-forge/noarch::zipp-3.20.2-pyhd8ed1ab_0 \n",
            "\n",
            "The following packages will be DOWNGRADED:\n",
            "\n",
            "  conda                              24.7.1-py310hff52083_0 --> 23.1.0-py310hff52083_0 \n",
            "  conda-libmamba-so~                    24.9.0-pyhd8ed1ab_0 --> 23.1.0-pyhd8ed1ab_0 \n",
            "  fmt                                     10.2.1-h00ab1b0_0 --> 9.1.0-h924138e_0 \n",
            "  icu                                       73.2-h59595ed_0 --> 70.1-h27087fc_0 \n",
            "  libarchive                               3.7.4-hfca40fe_0 --> 3.5.2-hada088e_3 \n",
            "  libmamba                                 1.5.8-had39da4_0 --> 1.1.0-h70b1f8a_2 \n",
            "  libmambapy                          1.5.8-py310h39ff949_0 --> 1.1.0-py310h69aa5bf_2 \n",
            "  libxml2                                 2.12.7-hc051c1a_1 --> 2.9.14-h22db469_4 \n",
            "  mamba                               1.5.8-py310h51d5547_0 --> 1.1.0-py310h51d5547_2 \n",
            "  ruamel.yaml                        0.18.5-py310h2372a71_0 --> 0.17.40-py310h2372a71_0 \n",
            "  yaml-cpp                                 0.8.0-h59595ed_0 --> 0.7.0-h59595ed_3 \n",
            "\n",
            "\n",
            "\n",
            "Downloading and Extracting Packages:\n",
            "Preparing transaction: - \b\bdone\n",
            "Verifying transaction: | \b\b/ \b\b- \b\b\\ \b\bdone\n",
            "Executing transaction: / \b\b- \b\b\\ \b\b| \b\b/ \b\b- \b\b\\ \b\b| \b\b/ \b\b- \b\b\\ \b\b| \b\b/ \b\b- \b\b\\ \b\b| \b\bdone\n"
          ]
        }
      ],
      "source": [
        "%%capture\n",
        "#The first two lines are specific to the Google CoLab conda install\n",
        "!sudo apt-get install libarchive13\n",
        "!conda install mamba -c conda-forge --force-reinstall -y\n",
        "\n",
        "#These install lines add the necessary packages.\n",
        "\n",
        "!conda install -y conda-forge::ncbi-datasets-cli\n",
        "!conda install -y bioconda::sra-tools\n",
        "!conda install -y bioconda::magicblast\n",
        "!conda install -y bioconda::blast\n",
        "!sudo apt-get install -y samtools uuid-runtime\n"
      ]
    },
    {
      "cell_type": "markdown",
      "id": "composed-function",
      "metadata": {
        "id": "composed-function"
      },
      "source": [
        "A few notes:\n",
        "\n",
        "* This demo is intended to be run on binder as all programmatic installs have been done directly to the binder server\n",
        "* If you wish to download and use this notebook on your own server, please find the instructions for the programmatic installs in the README.md file for this git repo: https://github.com/BlueBicycleBlog/finding-data-demo-08-21/blob/master/README.md\n",
        "* The commands in this notebook that begin with \"!\" are bash commands that can be copied and run directly in a terminal."
      ]
    },
    {
      "cell_type": "markdown",
      "id": "visible-certification",
      "metadata": {
        "id": "visible-certification"
      },
      "source": [
        "Command Line programs already loaded onto the server, but if you are running this notebook locally, you may need to install and add these programs to your path to work with these commands as written.\n",
        "\n",
        "**SRA Toolkit** (install instructions here: https://github.com/ncbi/sra-tools/wiki/02.-Installing-SRA-Toolkit)\n",
        "\n",
        "**Datasets Command Line** (install instructions here: https://www.ncbi.nlm.nih.gov/datasets/docs/quickstarts/command-line-tools/\n",
        "\n",
        "**Blast+ Executables** (install instructions here: https://www.ncbi.nlm.nih.gov/books/NBK279690/)\n",
        "\n",
        "**MagicBlast** (install instructions here: https://ncbi.github.io/magicblast/)"
      ]
    },
    {
      "cell_type": "markdown",
      "id": "collect-clock",
      "metadata": {
        "id": "collect-clock"
      },
      "source": [
        "## Configure SRA Toolkit"
      ]
    },
    {
      "cell_type": "markdown",
      "id": "beneficial-lindsay",
      "metadata": {
        "id": "beneficial-lindsay"
      },
      "source": [
        "If this is the first time running the notebook, use the following cell to set up SRA toolkit"
      ]
    },
    {
      "cell_type": "code",
      "execution_count": 2,
      "id": "266943d1",
      "metadata": {
        "scrolled": true,
        "colab": {
          "base_uri": "https://localhost:8080/"
        },
        "id": "266943d1",
        "outputId": "d872258b-6076-46f7-91ec-0e03b471ccd8"
      },
      "outputs": [
        {
          "output_type": "stream",
          "name": "stdout",
          "text": [
            "2024-09-26T16:50:20 vdb-config.3.1.1 err: condition violated while updating node - Warning: normally this application should not be run as root/superuser\n",
            "Report Cloud Instance Identity was set to true\n",
            "2024-09-26T16:50:20 vdb-config.3.1.1 err: condition violated while updating node - Warning: normally this application should not be run as root/superuser\n"
          ]
        }
      ],
      "source": [
        "GUID = !uuidgen\n",
        "GUID = str(GUID).strip('[]')\n",
        "!vdb-config --set LIBS/GUID={GUID}\n",
        "!vdb-config --report-cloud-identity yes\n",
        "!vdb-config --set /repository/user/main/public/cache-disabled=true\n",
        "!cat $HOME/.ncbi/user-settings.mkfg"
      ]
    },
    {
      "cell_type": "markdown",
      "id": "impressive-simpson",
      "metadata": {
        "id": "impressive-simpson"
      },
      "source": [
        "Test that the sra toolkit is configured and working from this location by downloading the first two reads with quality scores using an SRA Accession."
      ]
    },
    {
      "cell_type": "code",
      "execution_count": 3,
      "id": "continental-williams",
      "metadata": {
        "colab": {
          "base_uri": "https://localhost:8080/"
        },
        "id": "continental-williams",
        "outputId": "b29ce8df-db70-4966-bf7f-e4aed32f9e17"
      },
      "outputs": [
        {
          "output_type": "stream",
          "name": "stdout",
          "text": [
            "Read 2 spots for SRR3241527\n",
            "Written 2 spots for SRR3241527\n",
            "@SRR3241527.1 FCC3E8RACXX:1:1101:8441:2000# length=100\n",
            "NCCACCCTTCGAAATCACAGTCCGTGAGTCTCCAACATTGGCAACATAAAGATGATCACCAACTAGCACTGCTGTTGAAGCAGTAGAACCATCATCACGG\n",
            "+SRR3241527.1 FCC3E8RACXX:1:1101:8441:2000# length=100\n",
            "#4BDFFFFHHHHHJJJIJJJHIIJGHIIEGHIJJJJJJJJIJJJJJJJJJIJJJJJJJJJJJJJJJHHHHHFFFFDFEEEEEDCCDDDDDDCDDDDDDDB\n",
            "@SRR3241527.2 FCC3E8RACXX:1:1101:9310:1999# length=100\n",
            "NGTGAGCATCCGCAGGGACCATCGCAATGCTTTGTTTTAATTAAACAGTCGGATTCCCCTTGTCCGTACCAGTTCTGAGTCGACCGTTCGACGCCCGGGG\n",
            "+SRR3241527.2 FCC3E8RACXX:1:1101:9310:1999# length=100\n",
            "#4=DDFFFHHHHHJIHJJJIJIJJJJJIIJJJJIIIJJJIJJJJJJJJFIIJJJJHHHHEFFFFFDDEDDDDCDDCDDDDDDDDDBDDDDDDDDDD@9<B\n"
          ]
        }
      ],
      "source": [
        "!fastq-dump --stdout -X 2 SRR3241527"
      ]
    },
    {
      "cell_type": "markdown",
      "id": "insured-mouse",
      "metadata": {
        "id": "insured-mouse"
      },
      "source": [
        "## Load sequence data using SRA Toolkit command fastq-dump"
      ]
    },
    {
      "cell_type": "markdown",
      "id": "hairy-prospect",
      "metadata": {
        "id": "hairy-prospect"
      },
      "source": [
        "For convenience, the accession list that we generated using the SRA Run Selector has been added to this notebook environment for you. You can reuse this notebook to run your own accessions (memory permitting) by just replacing this text file in the directory with your own list.\n",
        "\n",
        "These 12 accessions belong to a Bioproject that measured RNA expression in Populus trichocarpus xylem on days 0, 5 and 7 of a drought treatment.\n",
        "\n",
        "![Metadata SRA](https://github.com/BlueBicycleBlog/finding-data-demo-08-21/blob/master/img/metadata.png?raw=1)\n",
        "\n",
        "This metadata table was generated using the SRA Run Selector tool.\n",
        "\n",
        "[SRA Run Selector](https://www.ncbi.nlm.nih.gov/Traces/study/?query_key=5&WebEnv=MCID_66f52a3b8c49702d712a7c8e&o=acc_s%3Aa)"
      ]
    },
    {
      "cell_type": "code",
      "source": [
        "!wget https://raw.githubusercontent.com/BlueBicycleBlog/finding-data-demo-08-21/refs/heads/master/accessionlist.txt"
      ],
      "metadata": {
        "colab": {
          "base_uri": "https://localhost:8080/"
        },
        "id": "sBL7UbGFPyLq",
        "outputId": "acc41e87-2d3a-492a-d9cf-ccc9a675766f"
      },
      "id": "sBL7UbGFPyLq",
      "execution_count": 6,
      "outputs": [
        {
          "output_type": "stream",
          "name": "stdout",
          "text": [
            "--2024-09-26 16:52:37--  https://raw.githubusercontent.com/BlueBicycleBlog/finding-data-demo-08-21/refs/heads/master/accessionlist.txt\n",
            "Resolving raw.githubusercontent.com (raw.githubusercontent.com)... 185.199.108.133, 185.199.109.133, 185.199.110.133, ...\n",
            "Connecting to raw.githubusercontent.com (raw.githubusercontent.com)|185.199.108.133|:443... connected.\n",
            "HTTP request sent, awaiting response... 200 OK\n",
            "Length: 132 [text/plain]\n",
            "Saving to: ‘accessionlist.txt’\n",
            "\n",
            "\raccessionlist.txt     0%[                    ]       0  --.-KB/s               \raccessionlist.txt   100%[===================>]     132  --.-KB/s    in 0s      \n",
            "\n",
            "2024-09-26 16:52:37 (7.06 MB/s) - ‘accessionlist.txt’ saved [132/132]\n",
            "\n"
          ]
        }
      ]
    },
    {
      "cell_type": "code",
      "execution_count": 7,
      "id": "fb1d4801",
      "metadata": {
        "colab": {
          "base_uri": "https://localhost:8080/"
        },
        "id": "fb1d4801",
        "outputId": "6dfbed52-d800-411d-fe58-8e59afafdfae"
      },
      "outputs": [
        {
          "output_type": "stream",
          "name": "stdout",
          "text": [
            "SRR3241527\n",
            "SRR3241528\n",
            "SRR3241529\n",
            "SRR3241530\n",
            "SRR3241531\n",
            "SRR3241532\n",
            "SRR3241533\n",
            "SRR3241534\n",
            "SRR3241535\n",
            "SRR3241536\n",
            "SRR3241537\n",
            "SRR3241538\n"
          ]
        }
      ],
      "source": [
        "!cat accessionlist.txt"
      ]
    },
    {
      "cell_type": "code",
      "execution_count": 8,
      "id": "e8dabe49-ec72-41f8-90a0-48245f4d75d4",
      "metadata": {
        "colab": {
          "base_uri": "https://localhost:8080/"
        },
        "id": "e8dabe49-ec72-41f8-90a0-48245f4d75d4",
        "outputId": "53c4defe-2ffe-423c-f41c-4d0bfb30604e"
      },
      "outputs": [
        {
          "output_type": "stream",
          "name": "stdout",
          "text": [
            "mkdir: cannot create directory ‘data’: File exists\n"
          ]
        }
      ],
      "source": [
        "!mkdir data"
      ]
    },
    {
      "cell_type": "code",
      "execution_count": 9,
      "id": "5fe0ef58",
      "metadata": {
        "colab": {
          "base_uri": "https://localhost:8080/"
        },
        "id": "5fe0ef58",
        "outputId": "0611baa0-6cc3-4e1d-a2ac-313d3ce094d1"
      },
      "outputs": [
        {
          "output_type": "stream",
          "name": "stdout",
          "text": [
            "Read 1000000 spots for SRR3241531\n",
            "Written 1000000 spots for SRR3241531\n",
            "Read 1000000 spots for SRR3241536\n",
            "Written 1000000 spots for SRR3241536\n",
            "Read 1000000 spots for SRR3241535\n",
            "Written 1000000 spots for SRR3241535\n",
            "Read 1000000 spots for SRR3241533\n",
            "Written 1000000 spots for SRR3241533\n",
            "Read 1000000 spots for SRR3241528\n",
            "Written 1000000 spots for SRR3241528\n",
            "Read 1000000 spots for SRR3241538\n",
            "Written 1000000 spots for SRR3241538\n",
            "Read 1000000 spots for SRR3241527\n",
            "Written 1000000 spots for SRR3241527\n",
            "Read 1000000 spots for SRR3241529\n",
            "Written 1000000 spots for SRR3241529\n",
            "Read 1000000 spots for SRR3241530\n",
            "Written 1000000 spots for SRR3241530\n",
            "Read 1000000 spots for SRR3241532\n",
            "Written 1000000 spots for SRR3241532\n",
            "Read 1000000 spots for SRR3241534\n",
            "Written 1000000 spots for SRR3241534\n",
            "Read 1000000 spots for SRR3241537\n",
            "Written 1000000 spots for SRR3241537\n"
          ]
        }
      ],
      "source": [
        "!cat accessionlist.txt | xargs -P 12 -n 1 fastq-dump -X 1000000 -O data"
      ]
    },
    {
      "cell_type": "code",
      "execution_count": 10,
      "id": "surprised-transmission",
      "metadata": {
        "jupyter": {
          "source_hidden": true
        },
        "colab": {
          "base_uri": "https://localhost:8080/"
        },
        "id": "surprised-transmission",
        "outputId": "1fe3f4e8-b84f-4097-b886-8cd123050570"
      },
      "outputs": [
        {
          "output_type": "stream",
          "name": "stdout",
          "text": [
            "SRR3241527.fastq  SRR3241530.fastq  SRR3241533.fastq  SRR3241536.fastq\n",
            "SRR3241528.fastq  SRR3241531.fastq  SRR3241534.fastq  SRR3241537.fastq\n",
            "SRR3241529.fastq  SRR3241532.fastq  SRR3241535.fastq  SRR3241538.fastq\n"
          ]
        }
      ],
      "source": [
        "!ls data"
      ]
    },
    {
      "cell_type": "markdown",
      "id": "sexual-chinese",
      "metadata": {
        "id": "sexual-chinese"
      },
      "source": [
        "## Download the RefSeq Genome and annotations from Datasets\n",
        "\n",
        "The NCBI Datasets datasets command line tools are **datasets** and **dataformat**.\n",
        "\n",
        "Use datasets to download biological sequence data across all domains of life from NCBI.\n",
        "\n",
        "Use dataformat to convert metadata from JSON Lines format to other formats.\n",
        "\n",
        "Note: The NCBI Datasets command line tools are currently in alpha and will be updated frequently to add new features, fix bugs, and enhance usability. Command syntax is subject to frequent changes. Please check back often for updates."
      ]
    },
    {
      "cell_type": "markdown",
      "id": "elementary-bolivia",
      "metadata": {
        "id": "elementary-bolivia"
      },
      "source": [
        "This part of the analysis repliates what we did with the web browser, except by using the command line tool provided by NCBI."
      ]
    },
    {
      "cell_type": "code",
      "execution_count": null,
      "id": "d5035772",
      "metadata": {
        "scrolled": true,
        "id": "d5035772"
      },
      "outputs": [],
      "source": [
        "!datasets download genome accession GCF_000002775.4 --chromosomes 5 --include genome,gtf\n",
        ""
      ]
    },
    {
      "cell_type": "code",
      "execution_count": 12,
      "id": "d32c54c0",
      "metadata": {
        "colab": {
          "base_uri": "https://localhost:8080/"
        },
        "id": "d32c54c0",
        "outputId": "a13b270c-d86f-4469-fcca-7d10375c5c21"
      },
      "outputs": [
        {
          "output_type": "stream",
          "name": "stdout",
          "text": [
            "Archive:  ncbi_dataset.zip\n",
            "  inflating: PtRefSeq/README.md      \n",
            "  inflating: PtRefSeq/ncbi_dataset/data/assembly_data_report.jsonl  \n",
            "  inflating: PtRefSeq/ncbi_dataset/data/GCF_000002775.4/chr5.fna  \n",
            "  inflating: PtRefSeq/ncbi_dataset/data/GCF_000002775.4/genomic.gtf  \n",
            "  inflating: PtRefSeq/ncbi_dataset/data/dataset_catalog.json  \n",
            "  inflating: PtRefSeq/md5sum.txt     \n"
          ]
        }
      ],
      "source": [
        "!unzip -o ncbi_dataset.zip -d PtRefSeq"
      ]
    },
    {
      "cell_type": "markdown",
      "id": "positive-baker",
      "metadata": {
        "id": "positive-baker"
      },
      "source": [
        "Magic-BLAST requires a BLAST database in order to align the reads."
      ]
    },
    {
      "cell_type": "code",
      "execution_count": 13,
      "id": "b8c8a1ca",
      "metadata": {
        "colab": {
          "base_uri": "https://localhost:8080/"
        },
        "id": "b8c8a1ca",
        "outputId": "a1e60770-514e-45ad-81d6-8d019141847e"
      },
      "outputs": [
        {
          "output_type": "stream",
          "name": "stdout",
          "text": [
            "\n",
            "\n",
            "Building a new DB, current time: 09/26/2024 16:55:35\n",
            "New DB name:   /content/PtRefSeq/Pt.chrom5\n",
            "New DB title:  PtRefSeq/ncbi_dataset/data/GCF_000002775.4/chr5.fna\n",
            "Sequence type: Nucleotide\n",
            "Keep MBits: T\n",
            "Maximum file size: 3000000000B\n",
            "Adding sequences from FASTA; added 1 sequences in 1.04377 seconds.\n",
            "\n",
            "\n"
          ]
        }
      ],
      "source": [
        "!makeblastdb -in PtRefSeq/ncbi_dataset/data/GCF_000002775.4/chr5.fna -dbtype nucl -parse_seqids -out PtRefSeq/Pt.chrom5\n"
      ]
    },
    {
      "cell_type": "markdown",
      "id": "featured-crash",
      "metadata": {
        "id": "featured-crash"
      },
      "source": [
        "## Align Fastq Files to Reference Genome to Produce Bams using Magic-BLAST\n",
        "\n",
        "Magic-BLAST is a tool for mapping large next-generation RNA or DNA sequencing runs against a whole genome or transcriptome. Each alignment optimizes a composite score, taking into account simultaneously the two reads of a pair, and in case of RNA-seq, locating the candidate introns and adding up the score of all exons. This is very different from other versions of BLAST, where each exon is scored as a separate hit and read-pairing is ignored."
      ]
    },
    {
      "cell_type": "markdown",
      "id": "substantial-spare",
      "metadata": {
        "id": "substantial-spare"
      },
      "source": [
        "Create a location to store the bams."
      ]
    },
    {
      "cell_type": "code",
      "execution_count": 14,
      "id": "cf4dd44f",
      "metadata": {
        "id": "cf4dd44f"
      },
      "outputs": [],
      "source": [
        "!mkdir bams"
      ]
    },
    {
      "cell_type": "markdown",
      "id": "revised-accent",
      "metadata": {
        "id": "revised-accent"
      },
      "source": [
        "This next command limits the number of bases that are input into the magicblast command before running it. The default is 50M. The only reason the value is being set lower is to allow this notebook to work on the binder server, which as a 2 GB virtual memory limit. If the limit is still too high when running the notebook, try reducing the BATCH_SIZE to 5000000."
      ]
    },
    {
      "cell_type": "code",
      "execution_count": 15,
      "id": "aware-resistance",
      "metadata": {
        "colab": {
          "base_uri": "https://localhost:8080/"
        },
        "id": "aware-resistance",
        "outputId": "511bf7b4-1660-405b-b046-62b179df4986"
      },
      "outputs": [
        {
          "output_type": "stream",
          "name": "stdout",
          "text": [
            "env: BATCH_SIZE=7500000\n"
          ]
        }
      ],
      "source": [
        "%env BATCH_SIZE=7500000"
      ]
    },
    {
      "cell_type": "markdown",
      "id": "differential-kruger",
      "metadata": {
        "id": "differential-kruger"
      },
      "source": [
        "Magic-BLAST has a variety of parameters that can be set. In this example, we are setting the parameters:\n",
        "\n",
        "* *splice* is *True* (transcriptomic data)\n",
        "* *no_unaligned* (to reduce the file size that is generated)\n",
        "* *max_db_word_count* is 10 to reduce virtual memory demand (Magicblast rejects 16-base word matches between input reads and the target database if this word appears in the database more than <number> of times. The default is 30.\n",
        "\n",
        "Samtools\n",
        "\n",
        "The default output type for MagicBlast is a sam file, so we pipe it into samtools to make a bam for later viewing on the Genome Data Viewer. The sort command has a large virtual memory command.\n",
        "\n",
        "* *-m* parameter is set to 250M to reduce load in this binder notebook (it can be removed on your own machine)\\\n",
        "\n",
        "The first example only runs magicblast on a single file.\n",
        "\n",
        "To run the program on all of the files, then uncomment the advanced cell which takes in the entire list of fastq files and runs magicblast. This will take longer.\n"
      ]
    },
    {
      "cell_type": "code",
      "execution_count": 29,
      "id": "3c9ce308",
      "metadata": {
        "id": "3c9ce308"
      },
      "outputs": [],
      "source": [
        "!magicblast -query data/SRR3241538.fastq -db PtRefSeq/Pt.chrom5 -splice T -no_unaligned -infmt fastq -max_db_word_count 10 | \\\n",
        "samtools view -bS | samtools sort -m 250M -o bams/SRR3241538.bam -O BAM"
      ]
    },
    {
      "cell_type": "markdown",
      "id": "86dd6bc9-ee97-40a0-84bb-892021673e52",
      "metadata": {
        "id": "86dd6bc9-ee97-40a0-84bb-892021673e52"
      },
      "source": [
        "### Optional\n",
        "\n",
        "Only uncomment and run this next code cell if you want to get all of the bams generated.\n",
        "\n",
        "This is not advised on a smaller or temporary machine, so proceed with caution."
      ]
    },
    {
      "cell_type": "code",
      "source": [],
      "metadata": {
        "id": "vPehDUr-ZsyF"
      },
      "id": "vPehDUr-ZsyF",
      "execution_count": null,
      "outputs": []
    },
    {
      "cell_type": "code",
      "execution_count": 31,
      "id": "99598cfd-a7b7-4071-9d47-7c51686f942d",
      "metadata": {
        "colab": {
          "base_uri": "https://localhost:8080/"
        },
        "id": "99598cfd-a7b7-4071-9d47-7c51686f942d",
        "outputId": "a5d479e1-6d8f-4e23-8400-35bce621e48d"
      },
      "outputs": [
        {
          "output_type": "stream",
          "name": "stdout",
          "text": [
            "^C\n"
          ]
        }
      ],
      "source": [
        "#!cat accessionlist.txt | xargs -I {} -P 12 -n 1 echo \"magicblast -query data/{}.fastq -db PtRefSeq/Pt.chrom5 -splice T -no_unaligned -infmt fastq -max_db_word_count 10 | \\\n",
        "samtools view -bS | samtools sort -m 250M -o bams/{}.bam -O BAM\" | while read line; do sh -c \"$line\"; done"
      ]
    },
    {
      "cell_type": "markdown",
      "id": "weekly-scheduling",
      "metadata": {
        "id": "weekly-scheduling"
      },
      "source": [
        "The bam files need to be indexed to be used in Genome Data Viewer."
      ]
    },
    {
      "cell_type": "code",
      "execution_count": 33,
      "id": "minute-image",
      "metadata": {
        "colab": {
          "base_uri": "https://localhost:8080/"
        },
        "id": "minute-image",
        "outputId": "cfc51576-b8f5-4ee0-ea3c-9be4a9b35096"
      },
      "outputs": [
        {
          "output_type": "stream",
          "name": "stdout",
          "text": [
            "SRR3241527.bam\n"
          ]
        }
      ],
      "source": [
        "!ls bams"
      ]
    },
    {
      "cell_type": "code",
      "execution_count": 34,
      "id": "3700aacd",
      "metadata": {
        "jupyter": {
          "source_hidden": true
        },
        "id": "3700aacd"
      },
      "outputs": [],
      "source": [
        "!for i in bams/*.bam; do samtools index $i; done"
      ]
    },
    {
      "cell_type": "code",
      "execution_count": 35,
      "id": "d88b5187-5ffc-4a09-b283-58f7169b461a",
      "metadata": {
        "jupyter": {
          "source_hidden": true
        },
        "colab": {
          "base_uri": "https://localhost:8080/"
        },
        "id": "d88b5187-5ffc-4a09-b283-58f7169b461a",
        "outputId": "d912b010-9218-477c-d32f-b97e388b13cd"
      },
      "outputs": [
        {
          "output_type": "stream",
          "name": "stdout",
          "text": [
            "SRR3241527.bam\tSRR3241527.bam.bai\n"
          ]
        }
      ],
      "source": [
        "!ls bams"
      ]
    },
    {
      "cell_type": "code",
      "execution_count": null,
      "id": "85feb256",
      "metadata": {
        "id": "85feb256"
      },
      "outputs": [],
      "source": [
        "#If you are using your own accession list, you can generate the list of command by running this bash command after removing the \"#\" from the beginning of each line\n",
        "\n",
        "#!cat accessionlist.txt| while read line;do \\\n",
        "#echo \"magicblast -query data/$line.fastq -db Pt.chrom5 -splice T -no_unaligned -infmt fastq -max_db_word_count 10 | \\\n",
        "#samtools view -bS | samtools sort -m 250M -o bams/$line.bam -O BAM\"; done"
      ]
    },
    {
      "cell_type": "code",
      "execution_count": null,
      "id": "orange-butler",
      "metadata": {
        "id": "orange-butler"
      },
      "outputs": [],
      "source": [
        "#If you wish to continue with analyzing the bam files in this notebook, here is a shortcut code.\n",
        "#Just remove the # in front of the following two lines to run them.\n",
        "\n",
        "#!cat accessionlist.txt | xargs -I % wget -O bams/%.bam https://ftp.ncbi.nlm.nih.gov/pub/education/public_webinars/2021/08Aug18_Res_Org_2/A_bams/%.bam\n",
        "#!cat accessionlist.txt | xargs -I % wget -O bams/%.bam.bai https://ftp.ncbi.nlm.nih.gov/pub/education/public_webinars/2021/08Aug18_Res_Org_2/A_bams/%.bam.bai"
      ]
    },
    {
      "cell_type": "markdown",
      "id": "balanced-dover",
      "metadata": {
        "id": "balanced-dover"
      },
      "source": [
        "A few of the tracks (one for Day 0, One for Day 5 and one for Day 7) have been entered and can be viewed by following this link which will be available until November 16, 2024 (90 days after creation).\n",
        "\n",
        "https://www.ncbi.nlm.nih.gov/gdv/browser/genome/?cfg=NCID_1_24060339_130.14.22.10_9146_1727372312_2335023902\n",
        "\n",
        "\n",
        "If the link has expired,\n",
        "\n",
        "1.) Navigate to the GDV Viewer for Populus trichocarpus chromosome 5\n",
        "\n",
        "![Navigate to Chromosome 5](https://github.com/BlueBicycleBlog/finding-data-demo-08-21/blob/master/img/navigate_GDV_Viewer.png?raw=1)\n",
        "\n",
        "2.) Upon opening GDV Viewer, the bam files and their corresponding indexes can be loaded using the remote files that we have put into our ftp repository (GDV does not currently support local uploads of bam files).\n",
        "\n",
        "Make sure to select the same version of the genome that was downloaded from datasets.\n",
        "\n",
        "![Genome Version](https://github.com/BlueBicycleBlog/finding-data-demo-08-21/blob/master/img/genome_version.png?raw=1)\n",
        "\n",
        "Loading all 12 files may make it difficult to view in one webpage, so we have chosen just three of the files form different treatment days for our demo.\n",
        "\n",
        "One each from Day 0, Day 5, and Day 7.\n",
        "\n",
        "These links can be used if you want more practice loading remote files into Genome Data Viewer.\n",
        "\n",
        "\n",
        "https://ftp.ncbi.nlm.nih.gov/pub/education/public_webinars/2021/08Aug18_Res_Org_2/A_bams/SRR3241527.bam\n",
        "https://ftp.ncbi.nlm.nih.gov/pub/education/public_webinars/2021/08Aug18_Res_Org_2/A_bams/SRR3241528.bam\n",
        "https://ftp.ncbi.nlm.nih.gov/pub/education/public_webinars/2021/08Aug18_Res_Org_2/A_bams/SRR3241529.bam\n",
        "https://ftp.ncbi.nlm.nih.gov/pub/education/public_webinars/2021/08Aug18_Res_Org_2/A_bams/SRR3241530.bam\n",
        "https://ftp.ncbi.nlm.nih.gov/pub/education/public_webinars/2021/08Aug18_Res_Org_2/A_bams/SRR3241531.bam\n",
        "https://ftp.ncbi.nlm.nih.gov/pub/education/public_webinars/2021/08Aug18_Res_Org_2/A_bams/SRR3241532.bam\n",
        "https://ftp.ncbi.nlm.nih.gov/pub/education/public_webinars/2021/08Aug18_Res_Org_2/A_bams/SRR3241533.bam\n",
        "https://ftp.ncbi.nlm.nih.gov/pub/education/public_webinars/2021/08Aug18_Res_Org_2/A_bams/SRR3241534.bam\n",
        "https://ftp.ncbi.nlm.nih.gov/pub/education/public_webinars/2021/08Aug18_Res_Org_2/A_bams/SRR3241535.bam\n",
        "https://ftp.ncbi.nlm.nih.gov/pub/education/public_webinars/2021/08Aug18_Res_Org_2/A_bams/SRR3241536.bam\n",
        "https://ftp.ncbi.nlm.nih.gov/pub/education/public_webinars/2021/08Aug18_Res_Org_2/A_bams/SRR3241537.bam\n",
        "https://ftp.ncbi.nlm.nih.gov/pub/education/public_webinars/2021/08Aug18_Res_Org_2/A_bams/SRR3241538.bam\n",
        "\n",
        "\n",
        "\n",
        "![How to load remote files](https://github.com/BlueBicycleBlog/finding-data-demo-08-21/blob/master/img/add_remote_track.png?raw=1)\n",
        "\n",
        "\n"
      ]
    },
    {
      "cell_type": "markdown",
      "id": "exclusive-audience",
      "metadata": {
        "id": "exclusive-audience"
      },
      "source": [
        "If you want to load your own remote files into GDV Viewer, it is possible using your Github repository for files that are less than 1 GB. Just use the following file format based on the location of your file in the repository.\n",
        "\n",
        "This file has been added to this repository for testing this option.\n",
        "\n",
        "https://github.com/BlueBicycleBlog/finding-data-demo-08-21/raw/master/SRR3241537.bam\n",
        "\n",
        "Make sure the `bam` files and the `bam.bai` fils are in the same location in your repository.\n",
        "\n"
      ]
    },
    {
      "cell_type": "markdown",
      "id": "771b86d2",
      "metadata": {
        "id": "771b86d2"
      },
      "source": [
        "Read More about the research project that produced this data set.\n",
        "\n",
        "https://www.ncbi.nlm.nih.gov/geo/query/acc.cgi?acc=GSE79401\n",
        "\n",
        "Li S, Lin YJ, Wang P, Zhang B et al. The AREB1 Transcription Factor Influences Histone Acetylation to Regulate Drought Responses and Tolerance in <i>Populus trichocarpa</i>. Plant Cell 2019 Mar;31(3):663-686.\n",
        "\n",
        "[PubMed Link to Publication](https://pubmed.ncbi.nlm.nih.gov/30538157/)\n",
        "\n",
        "[Link to Publication where Supplemental Links Work](https://academic.oup.com/plcell/article/31/3/663/5985576?login=false)\n",
        "\n",
        "\n",
        "One of the findings in the paper is that the ADA2 genes may confer drought tolerance\n",
        "\n",
        "The main gene for ADA2 is not on the chromosome mapped here, but doing a searcher for \"ADA2\" in the Genome viewer brought us to an interesting set of coordinates in Chromosome 5.\n",
        "\n",
        "![Possible Alternative Transcription in SRM1](https://github.com/BlueBicycleBlog/finding-data-demo-08-21/blob/master/img/alternative_transcription.png?raw=1)\n",
        "\n",
        "The gene that is in the main screen of the genome viewer when clicking on the link provided is \"SRM1\", also known as Salt-Related MYB1.\n",
        "\n",
        "This is a gene that can impact vegetation growth and leaf shape.\n",
        "\n",
        "In this snapshot, looking at the first exon in the putative gene shows that a more complete version of the first exonic region appears to be active on Days 5 and 7 when compared to Day 0.\n",
        "\n",
        "Try loading the other bam files to see if the replicates support this finding.\n",
        "\n",
        "All the bam file links have been provided.\n",
        "\n",
        "\n",
        "\n",
        "\n",
        "\n"
      ]
    },
    {
      "cell_type": "code",
      "execution_count": null,
      "id": "4277a0cf",
      "metadata": {
        "id": "4277a0cf"
      },
      "outputs": [],
      "source": []
    }
  ],
  "metadata": {
    "kernelspec": {
      "display_name": "Python 3",
      "name": "python3"
    },
    "language_info": {
      "codemirror_mode": {
        "name": "ipython",
        "version": 3
      },
      "file_extension": ".py",
      "mimetype": "text/x-python",
      "name": "python",
      "nbconvert_exporter": "python",
      "pygments_lexer": "ipython3",
      "version": "3.12.1"
    },
    "colab": {
      "provenance": [],
      "include_colab_link": true
    }
  },
  "nbformat": 4,
  "nbformat_minor": 5
}
