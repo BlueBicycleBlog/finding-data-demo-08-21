{
 "cells": [
  {
   "cell_type": "markdown",
   "id": "automotive-stretch",
   "metadata": {},
   "source": [
    "# Demo notebook for \"Finding Data for your Research Organism: Plants and RNASeq Data\"\n",
    "\n",
    "This notebook was originally part of a webinar presentation to demonstrate a variety of NCBI tools: SRA toolkit, NCBI Datasets, MagicBlast and Genome Data Viewer.\n",
    "\n",
    "A few changes have been made to make sure this notebook works in 2024, but for the most part a very good guide on this notebook can be found by watching the youtube video.\n",
    "\n",
    "[Link to the Youtube Video](https://www.youtube.com/watch?v=BBBKt7Z3bt8)\n",
    "\n",
    "![Youtube Video](img/youtube.png)\n",
    "\n",
    "\n",
    "\n",
    "A brief summary of the dataset from BioProjects at NCBI\n",
    "\n",
    "![Bioproject Summary](img/bioproject.png)\n",
    "\n",
    "\n",
    "[A weblink with more details](https://www.ncbi.nlm.nih.gov/bioproject?term=320374[top+bioproject]+NOT+320378[uid])"
   ]
  },
  {
   "cell_type": "markdown",
   "id": "b080e89b-561a-4896-b0e4-73d69863072a",
   "metadata": {},
   "source": [
    "### How to Run this Notebook if Not in the Binder (e.g. Codespace)\n",
    "\n",
    "If you are not running in the binder, then some conda installs will need to be done  before using this notebook\n",
    "\n",
    "For example, if you are working directly from the Github Codespace\n",
    "\n",
    "Uncomment the following commands to install the programs."
   ]
  },
  {
   "cell_type": "code",
   "execution_count": 1,
   "id": "80b63d2a-734d-4c97-8b77-efb364971d82",
   "metadata": {
    "scrolled": true
   },
   "outputs": [],
   "source": [
    "#!conda install -y conda-forge::ncbi-datasets-cli\n",
    "#!conda install -y bioconda::sra-tools\n",
    "#!conda install -y bioconda::magicblast\n",
    "#!conda install -y bioconda::blast\n",
    "#!sudo apt-get install -y samtools uuid-runtime\n"
   ]
  },
  {
   "cell_type": "markdown",
   "id": "composed-function",
   "metadata": {},
   "source": [
    "A few notes:\n",
    "\n",
    "* This demo is intended to be run on binder as all programmatic installs have been done directly to the binder server\n",
    "* If you wish to download and use this notebook on your own server, please find the instructions for the programmatic installs in the README.md file for this git repo: https://github.com/BlueBicycleBlog/finding-data-demo-08-21/blob/master/README.md\n",
    "* The commands in this notebook that begin with \"!\" are bash commands that can be copied and run directly in a terminal."
   ]
  },
  {
   "cell_type": "markdown",
   "id": "visible-certification",
   "metadata": {},
   "source": [
    "Command Line programs already loaded onto the server, but if you are running this notebook locally, you may need to install and add these programs to your path to work with these commands as written.\n",
    "\n",
    "**SRA Toolkit** (install instructions here: https://github.com/ncbi/sra-tools/wiki/02.-Installing-SRA-Toolkit)\n",
    "\n",
    "**Datasets Command Line** (install instructions here: https://www.ncbi.nlm.nih.gov/datasets/docs/quickstarts/command-line-tools/\n",
    "\n",
    "**Blast+ Executables** (install instructions here: https://www.ncbi.nlm.nih.gov/books/NBK279690/)\n",
    "\n",
    "**MagicBlast** (install instructions here: https://ncbi.github.io/magicblast/)"
   ]
  },
  {
   "cell_type": "markdown",
   "id": "collect-clock",
   "metadata": {},
   "source": [
    "## Configure SRA Toolkit"
   ]
  },
  {
   "cell_type": "markdown",
   "id": "beneficial-lindsay",
   "metadata": {},
   "source": [
    "If this is the first time running the notebook, use the following cell to set up SRA toolkit"
   ]
  },
  {
   "cell_type": "code",
   "execution_count": 2,
   "id": "266943d1",
   "metadata": {
    "scrolled": true
   },
   "outputs": [
    {
     "name": "stdout",
     "output_type": "stream",
     "text": [
      "Report Cloud Instance Identity was set to true\n"
     ]
    }
   ],
   "source": [
    "GUID = !uuidgen\n",
    "GUID = str(GUID).strip('[]')\n",
    "!vdb-config --set LIBS/GUID={GUID}\n",
    "!vdb-config --report-cloud-identity yes\n",
    "!vdb-config --set /repository/user/main/public/cache-disabled=true\n",
    "#!cat $HOME/.ncbi/user-settings.mkfg"
   ]
  },
  {
   "cell_type": "markdown",
   "id": "impressive-simpson",
   "metadata": {},
   "source": [
    "Test that the sra toolkit is configured and working from this location by downloading the first two reads with quality scores using an SRA Accession."
   ]
  },
  {
   "cell_type": "code",
   "execution_count": 3,
   "id": "continental-williams",
   "metadata": {},
   "outputs": [
    {
     "name": "stdout",
     "output_type": "stream",
     "text": [
      "Read 2 spots for SRR3241527\n",
      "Written 2 spots for SRR3241527\n",
      "@SRR3241527.1 FCC3E8RACXX:1:1101:8441:2000# length=100\n",
      "NCCACCCTTCGAAATCACAGTCCGTGAGTCTCCAACATTGGCAACATAAAGATGATCACCAACTAGCACTGCTGTTGAAGCAGTAGAACCATCATCACGG\n",
      "+SRR3241527.1 FCC3E8RACXX:1:1101:8441:2000# length=100\n",
      "#4BDFFFFHHHHHJJJIJJJHIIJGHIIEGHIJJJJJJJJIJJJJJJJJJIJJJJJJJJJJJJJJJHHHHHFFFFDFEEEEEDCCDDDDDDCDDDDDDDB\n",
      "@SRR3241527.2 FCC3E8RACXX:1:1101:9310:1999# length=100\n",
      "NGTGAGCATCCGCAGGGACCATCGCAATGCTTTGTTTTAATTAAACAGTCGGATTCCCCTTGTCCGTACCAGTTCTGAGTCGACCGTTCGACGCCCGGGG\n",
      "+SRR3241527.2 FCC3E8RACXX:1:1101:9310:1999# length=100\n",
      "#4=DDFFFHHHHHJIHJJJIJIJJJJJIIJJJJIIIJJJIJJJJJJJJFIIJJJJHHHHEFFFFFDDEDDDDCDDCDDDDDDDDDBDDDDDDDDDD@9<B\n"
     ]
    }
   ],
   "source": [
    "!fastq-dump --stdout -X 2 SRR3241527"
   ]
  },
  {
   "cell_type": "markdown",
   "id": "insured-mouse",
   "metadata": {},
   "source": [
    "## Load sequence data using SRA Toolkit command fastq-dump"
   ]
  },
  {
   "cell_type": "markdown",
   "id": "hairy-prospect",
   "metadata": {},
   "source": [
    "For convenience, the accession list that we generated using the SRA Run Selector has been added to this notebook environment for you. You can reuse this notebook to run your own accessions (memory permitting) by just replacing this text file in the directory with your own list.\n",
    "\n",
    "These 12 accessions belong to a Bioproject that measured RNA expression in Populus trichocarpus xylem on days 0, 5 and 7 of a drought treatment. \n",
    "\n",
    "![Metadata SRA](img/metadata.png)\n",
    "\n",
    "This metadata table was generated using the SRA Run Selector tool.\n",
    "\n",
    "[SRA Run Selector](https://www.ncbi.nlm.nih.gov/Traces/study/?query_key=5&WebEnv=MCID_66f52a3b8c49702d712a7c8e&o=acc_s%3Aa)"
   ]
  },
  {
   "cell_type": "code",
   "execution_count": 4,
   "id": "fb1d4801",
   "metadata": {},
   "outputs": [
    {
     "name": "stdout",
     "output_type": "stream",
     "text": [
      "SRR3241527\n",
      "SRR3241528\n",
      "SRR3241529\n",
      "SRR3241530\n",
      "SRR3241531\n",
      "SRR3241532\n",
      "SRR3241533\n",
      "SRR3241534\n",
      "SRR3241535\n",
      "SRR3241536\n",
      "SRR3241537\n",
      "SRR3241538\n"
     ]
    }
   ],
   "source": [
    "!cat accessionlist.txt"
   ]
  },
  {
   "cell_type": "code",
   "execution_count": 5,
   "id": "e8dabe49-ec72-41f8-90a0-48245f4d75d4",
   "metadata": {},
   "outputs": [],
   "source": [
    "!mkdir data"
   ]
  },
  {
   "cell_type": "code",
   "execution_count": 6,
   "id": "5fe0ef58",
   "metadata": {},
   "outputs": [
    {
     "name": "stdout",
     "output_type": "stream",
     "text": [
      "Read 1000000 spots for SRR3241535\n",
      "Written 1000000 spots for SRR3241535\n",
      "Read 1000000 spots for SRR3241532\n",
      "Written 1000000 spots for SRR3241532\n",
      "Read 1000000 spots for SRR3241531\n",
      "Written 1000000 spots for SRR3241531\n",
      "Read 1000000 spots for SRR3241527\n",
      "Written 1000000 spots for SRR3241527\n",
      "Read 1000000 spots for SRR3241538\n",
      "Written 1000000 spots for SRR3241538\n",
      "Read 1000000 spots for SRR3241530\n",
      "Written 1000000 spots for SRR3241530\n",
      "Read 1000000 spots for SRR3241528\n",
      "Written 1000000 spots for SRR3241528\n",
      "Read 1000000 spots for SRR3241529\n",
      "Written 1000000 spots for SRR3241529\n",
      "Read 1000000 spots for SRR3241536\n",
      "Written 1000000 spots for SRR3241536\n",
      "Read 1000000 spots for SRR3241533\n",
      "Written 1000000 spots for SRR3241533\n",
      "Read 1000000 spots for SRR3241537\n",
      "Written 1000000 spots for SRR3241537\n",
      "Read 1000000 spots for SRR3241534\n",
      "Written 1000000 spots for SRR3241534\n"
     ]
    }
   ],
   "source": [
    "!cat accessionlist.txt | xargs -P 12 -n 1 fastq-dump -X 1000000 -O data"
   ]
  },
  {
   "cell_type": "code",
   "execution_count": 7,
   "id": "surprised-transmission",
   "metadata": {
    "jupyter": {
     "source_hidden": true
    }
   },
   "outputs": [
    {
     "name": "stdout",
     "output_type": "stream",
     "text": [
      "SRR3241527.fastq  SRR3241530.fastq  SRR3241533.fastq  SRR3241536.fastq\n",
      "SRR3241528.fastq  SRR3241531.fastq  SRR3241534.fastq  SRR3241537.fastq\n",
      "SRR3241529.fastq  SRR3241532.fastq  SRR3241535.fastq  SRR3241538.fastq\n"
     ]
    }
   ],
   "source": [
    "!ls data"
   ]
  },
  {
   "cell_type": "markdown",
   "id": "sexual-chinese",
   "metadata": {},
   "source": [
    "## Download the RefSeq Genome and annotations from Datasets\n",
    "\n",
    "The NCBI Datasets datasets command line tools are **datasets** and **dataformat**.\n",
    "\n",
    "Use datasets to download biological sequence data across all domains of life from NCBI.\n",
    "\n",
    "Use dataformat to convert metadata from JSON Lines format to other formats.\n",
    "\n",
    "Note: The NCBI Datasets command line tools are currently in alpha and will be updated frequently to add new features, fix bugs, and enhance usability. Command syntax is subject to frequent changes. Please check back often for updates."
   ]
  },
  {
   "cell_type": "markdown",
   "id": "elementary-bolivia",
   "metadata": {},
   "source": [
    "This part of the analysis repliates what we did with the web browser, except by using the command line tool provided by NCBI."
   ]
  },
  {
   "cell_type": "code",
   "execution_count": 7,
   "id": "d5035772",
   "metadata": {
    "scrolled": true
   },
   "outputs": [
    {
     "name": "stdout",
     "output_type": "stream",
     "text": [
      "Collecting 1 genome record [------------------------------------------------]   0% 0/1\n",
      "\u001b[1A\u001b[2K\u001b[1A\u001b[2KCollecting 1 genome record [------------------------------------------------]   0% 0/1\n",
      "\u001b[1A\u001b[2K\u001b[1A\u001b[2KCollecting 1 genome record [------------------------------------------------]   0% 0/1\n",
      "\u001b[1A\u001b[2K\u001b[1A\u001b[2KCollecting 1 genome record [------------------------------------------------]   0% 0/1\n",
      "\u001b[1A\u001b[2K\u001b[1A\u001b[2KCollecting 1 genome record [------------------------------------------------]   0% 0/1\n",
      "\u001b[1A\u001b[2K\u001b[1A\u001b[2KCollecting 1 genome record [------------------------------------------------]   0% 0/1\n",
      "\u001b[1A\u001b[2K\u001b[1A\u001b[2KCollecting 1 genome record [------------------------------------------------]   0% 0/1\n",
      "\u001b[1A\u001b[2K\u001b[1A\u001b[2KCollecting 1 genome record [------------------------------------------------]   0% 0/1\n",
      "\u001b[1A\u001b[2K\u001b[1A\u001b[2KCollecting 1 genome record [------------------------------------------------]   0% 0/1\n",
      "\u001b[1A\u001b[2K\u001b[1A\u001b[2KCollecting 1 genome record [------------------------------------------------]   0% 0/1\n",
      "\u001b[1A\u001b[2K\u001b[1A\u001b[2KCollecting 1 genome record [------------------------------------------------]   0% 0/1\n",
      "\u001b[1A\u001b[2K\u001b[1A\u001b[2KCollecting 1 genome record [------------------------------------------------]   0% 0/1\n",
      "Warning - included annotation files cover whole genome even though chromosome fasta was selected\n",
      "\u001b[1A\u001b[2K\u001b[1A\u001b[2KCollecting 1 genome record [================================================] 100% 1/1\n",
      "\u001b[1A\u001b[2K\u001b[1A\u001b[2KCollecting 1 genome record [================================================] 100% 1/1\n",
      "\u001b[1A\u001b[2K\u001b[1A\u001b[2KCollecting 1 genome record [================================================] 100% 1/1\n",
      "\u001b[1A\u001b[2K\u001b[1A\u001b[2KCollecting 1 genome record [================================================] 100% 1/1\n",
      "\u001b[1A\u001b[2K\u001b[1A\u001b[2KCollecting 1 genome record [================================================] 100% 1/1\n",
      "\u001b[1A\u001b[2K\u001b[1A\u001b[2KCollecting 1 genome record [================================================] 100% 1/1\n",
      "\u001b[1A\u001b[2K\u001b[1A\u001b[2KCollecting 1 genome record [================================================] 100% 1/1\n",
      "\u001b[1A\u001b[2K\u001b[1A\u001b[2KCollecting 1 genome record [================================================] 100% 1/1\n",
      "\u001b[1A\u001b[2K\u001b[1A\u001b[2KCollecting 1 genome record [================================================] 100% 1/1\n",
      "\u001b[1A\u001b[2K\u001b[1A\u001b[2KCollecting 1 genome record [================================================] 100% 1/1\n",
      "\u001b[1A\u001b[2K\u001b[1A\u001b[2KCollecting 1 genome record [================================================] 100% 1/1\n",
      "\u001b[1A\u001b[2K\u001b[1A\u001b[2KCollecting 1 genome record [================================================] 100% 1/1\n",
      "\u001b[1A\u001b[2K\u001b[1A\u001b[2KCollecting 1 genome record [================================================] 100% 1/1\n",
      "\u001b[1A\u001b[2K\u001b[1A\u001b[2KCollecting 1 genome record [================================================] 100% 1/1\n",
      "\u001b[1A\u001b[2K\u001b[1A\u001b[2KCollecting 1 genome record [================================================] 100% 1/1\n",
      "\u001b[1A\u001b[2K\u001b[1A\u001b[2KCollecting 1 genome record [================================================] 100% 1/1\n",
      "\u001b[1A\u001b[2K\u001b[1A\u001b[2KCollecting 1 genome record [================================================] 100% 1/1\n",
      "\u001b[1A\u001b[2K\u001b[1A\u001b[2KCollecting 1 genome record [================================================] 100% 1/1\n",
      "\u001b[1A\u001b[2K\u001b[1A\u001b[2KCollecting 1 genome record [================================================] 100% 1/1\n",
      "\u001b[1A\u001b[2K\u001b[1A\u001b[2KCollecting 1 genome record [================================================] 100% 1/1\n",
      "Downloading: ncbi_dataset.zip    2.45kB 14.4MB/s\n",
      "\u001b[1A\u001b[2K\u001b[1A\u001b[2K\u001b[1A\u001b[2KCollecting 1 genome record [================================================] 100% 1/1\n",
      "Downloading: ncbi_dataset.zip    2.45kB 14.4MB/s\n",
      "\u001b[1A\u001b[2K\u001b[1A\u001b[2K\u001b[1A\u001b[2KCollecting 1 genome record [================================================] 100% 1/1\n",
      "Downloading: ncbi_dataset.zip    2.45kB 14.4MB/s\n",
      "\u001b[1A\u001b[2K\u001b[1A\u001b[2K\u001b[1A\u001b[2KCollecting 1 genome record [================================================] 100% 1/1\n",
      "Downloading: ncbi_dataset.zip    2.45kB 14.4MB/s\n",
      "\u001b[1A\u001b[2K\u001b[1A\u001b[2K\u001b[1A\u001b[2KCollecting 1 genome record [================================================] 100% 1/1\n",
      "Downloading: ncbi_dataset.zip    2.45kB 14.4MB/s\n",
      "\u001b[1A\u001b[2K\u001b[1A\u001b[2K\u001b[1A\u001b[2KCollecting 1 genome record [================================================] 100% 1/1\n",
      "Downloading: ncbi_dataset.zip    2.45kB 14.4MB/s\n",
      "\u001b[1A\u001b[2K\u001b[1A\u001b[2K\u001b[1A\u001b[2KCollecting 1 genome record [================================================] 100% 1/1\n",
      "Downloading: ncbi_dataset.zip    2.54kB 44.4kB/s\n",
      "\u001b[1A\u001b[2K\u001b[1A\u001b[2K\u001b[1A\u001b[2KCollecting 1 genome record [================================================] 100% 1/1\n",
      "Downloading: ncbi_dataset.zip    2.54kB 44.4kB/s\n",
      "\u001b[1A\u001b[2K\u001b[1A\u001b[2K\u001b[1A\u001b[2KCollecting 1 genome record [================================================] 100% 1/1\n",
      "Downloading: ncbi_dataset.zip    14.8kB 179kB/s\n",
      "\u001b[1A\u001b[2K\u001b[1A\u001b[2K\u001b[1A\u001b[2KCollecting 1 genome record [================================================] 100% 1/1\n",
      "Downloading: ncbi_dataset.zip    14.8kB 179kB/s\n",
      "\u001b[1A\u001b[2K\u001b[1A\u001b[2K\u001b[1A\u001b[2KCollecting 1 genome record [================================================] 100% 1/1\n",
      "Downloading: ncbi_dataset.zip    14.8kB 179kB/s\n",
      "\u001b[1A\u001b[2K\u001b[1A\u001b[2K\u001b[1A\u001b[2KCollecting 1 genome record [================================================] 100% 1/1\n",
      "Downloading: ncbi_dataset.zip    14.8kB 179kB/s\n",
      "\u001b[1A\u001b[2K\u001b[1A\u001b[2K\u001b[1A\u001b[2KCollecting 1 genome record [================================================] 100% 1/1\n",
      "Downloading: ncbi_dataset.zip    14.8kB 179kB/s\n",
      "\u001b[1A\u001b[2K\u001b[1A\u001b[2K\u001b[1A\u001b[2KCollecting 1 genome record [================================================] 100% 1/1\n",
      "Downloading: ncbi_dataset.zip    14.8kB 179kB/s\n",
      "\u001b[1A\u001b[2K\u001b[1A\u001b[2K\u001b[1A\u001b[2KCollecting 1 genome record [================================================] 100% 1/1\n",
      "Downloading: ncbi_dataset.zip    14.8kB 179kB/s\n",
      "\u001b[1A\u001b[2K\u001b[1A\u001b[2K\u001b[1A\u001b[2KCollecting 1 genome record [================================================] 100% 1/1\n",
      "Downloading: ncbi_dataset.zip    14.8kB 179kB/s\n",
      "\u001b[1A\u001b[2K\u001b[1A\u001b[2K\u001b[1A\u001b[2KCollecting 1 genome record [================================================] 100% 1/1\n",
      "Downloading: ncbi_dataset.zip    32.8kB 195kB/s\n",
      "\u001b[1A\u001b[2K\u001b[1A\u001b[2K\u001b[1A\u001b[2KCollecting 1 genome record [================================================] 100% 1/1\n",
      "Downloading: ncbi_dataset.zip    32.8kB 195kB/s\n",
      "\u001b[1A\u001b[2K\u001b[1A\u001b[2K\u001b[1A\u001b[2KCollecting 1 genome record [================================================] 100% 1/1\n",
      "Downloading: ncbi_dataset.zip    32.8kB 195kB/s\n",
      "\u001b[1A\u001b[2K\u001b[1A\u001b[2K\u001b[1A\u001b[2KCollecting 1 genome record [================================================] 100% 1/1\n",
      "Downloading: ncbi_dataset.zip    32.8kB 195kB/s\n",
      "\u001b[1A\u001b[2K\u001b[1A\u001b[2K\u001b[1A\u001b[2KCollecting 1 genome record [================================================] 100% 1/1\n",
      "Downloading: ncbi_dataset.zip    32.8kB 195kB/s\n",
      "\u001b[1A\u001b[2K\u001b[1A\u001b[2K\u001b[1A\u001b[2KCollecting 1 genome record [================================================] 100% 1/1\n",
      "Downloading: ncbi_dataset.zip    32.8kB 195kB/s\n",
      "\u001b[1A\u001b[2K\u001b[1A\u001b[2K\u001b[1A\u001b[2KCollecting 1 genome record [================================================] 100% 1/1\n",
      "Downloading: ncbi_dataset.zip    32.8kB 195kB/s\n",
      "\u001b[1A\u001b[2K\u001b[1A\u001b[2K\u001b[1A\u001b[2KCollecting 1 genome record [================================================] 100% 1/1\n",
      "Downloading: ncbi_dataset.zip    98.3kB 413kB/s\n",
      "\u001b[1A\u001b[2K\u001b[1A\u001b[2K\u001b[1A\u001b[2KCollecting 1 genome record [================================================] 100% 1/1\n",
      "Downloading: ncbi_dataset.zip    131kB 520kB/s\n",
      "\u001b[1A\u001b[2K\u001b[1A\u001b[2K\u001b[1A\u001b[2KCollecting 1 genome record [================================================] 100% 1/1\n",
      "Downloading: ncbi_dataset.zip    131kB 520kB/s\n",
      "\u001b[1A\u001b[2K\u001b[1A\u001b[2K\u001b[1A\u001b[2KCollecting 1 genome record [================================================] 100% 1/1\n",
      "Downloading: ncbi_dataset.zip    131kB 520kB/s\n",
      "\u001b[1A\u001b[2K\u001b[1A\u001b[2K\u001b[1A\u001b[2KCollecting 1 genome record [================================================] 100% 1/1\n",
      "Downloading: ncbi_dataset.zip    131kB 520kB/s\n",
      "\u001b[1A\u001b[2K\u001b[1A\u001b[2K\u001b[1A\u001b[2KCollecting 1 genome record [================================================] 100% 1/1\n",
      "Downloading: ncbi_dataset.zip    131kB 520kB/s\n",
      "\u001b[1A\u001b[2K\u001b[1A\u001b[2K\u001b[1A\u001b[2KCollecting 1 genome record [================================================] 100% 1/1\n",
      "Downloading: ncbi_dataset.zip    131kB 520kB/s\n",
      "\u001b[1A\u001b[2K\u001b[1A\u001b[2K\u001b[1A\u001b[2KCollecting 1 genome record [================================================] 100% 1/1\n",
      "Downloading: ncbi_dataset.zip    131kB 520kB/s\n",
      "\u001b[1A\u001b[2K\u001b[1A\u001b[2K\u001b[1A\u001b[2KCollecting 1 genome record [================================================] 100% 1/1\n",
      "Downloading: ncbi_dataset.zip    229kB 708kB/s\n",
      "\u001b[1A\u001b[2K\u001b[1A\u001b[2K\u001b[1A\u001b[2KCollecting 1 genome record [================================================] 100% 1/1\n",
      "Downloading: ncbi_dataset.zip    328kB 974kB/s\n",
      "\u001b[1A\u001b[2K\u001b[1A\u001b[2K\u001b[1A\u001b[2KCollecting 1 genome record [================================================] 100% 1/1\n",
      "Downloading: ncbi_dataset.zip    328kB 974kB/s\n",
      "\u001b[1A\u001b[2K\u001b[1A\u001b[2K\u001b[1A\u001b[2KCollecting 1 genome record [================================================] 100% 1/1\n",
      "Downloading: ncbi_dataset.zip    328kB 974kB/s\n",
      "\u001b[1A\u001b[2K\u001b[1A\u001b[2K\u001b[1A\u001b[2KCollecting 1 genome record [================================================] 100% 1/1\n",
      "Downloading: ncbi_dataset.zip    328kB 974kB/s\n",
      "\u001b[1A\u001b[2K\u001b[1A\u001b[2K\u001b[1A\u001b[2KCollecting 1 genome record [================================================] 100% 1/1\n",
      "Downloading: ncbi_dataset.zip    328kB 974kB/s\n",
      "\u001b[1A\u001b[2K\u001b[1A\u001b[2K\u001b[1A\u001b[2KCollecting 1 genome record [================================================] 100% 1/1\n",
      "Downloading: ncbi_dataset.zip    328kB 974kB/s\n",
      "\u001b[1A\u001b[2K\u001b[1A\u001b[2K\u001b[1A\u001b[2KCollecting 1 genome record [================================================] 100% 1/1\n",
      "Downloading: ncbi_dataset.zip    328kB 974kB/s\n",
      "\u001b[1A\u001b[2K\u001b[1A\u001b[2K\u001b[1A\u001b[2KCollecting 1 genome record [================================================] 100% 1/1\n",
      "Downloading: ncbi_dataset.zip    459kB 1.12MB/s\n",
      "\u001b[1A\u001b[2K\u001b[1A\u001b[2K\u001b[1A\u001b[2KCollecting 1 genome record [================================================] 100% 1/1\n",
      "Downloading: ncbi_dataset.zip    557kB 1.33MB/s\n",
      "\u001b[1A\u001b[2K\u001b[1A\u001b[2K\u001b[1A\u001b[2KCollecting 1 genome record [================================================] 100% 1/1\n",
      "Downloading: ncbi_dataset.zip    721kB 1.7MB/s\n",
      "\u001b[1A\u001b[2K\u001b[1A\u001b[2K\u001b[1A\u001b[2KCollecting 1 genome record [================================================] 100% 1/1\n",
      "Downloading: ncbi_dataset.zip    721kB 1.7MB/s\n",
      "\u001b[1A\u001b[2K\u001b[1A\u001b[2K\u001b[1A\u001b[2KCollecting 1 genome record [================================================] 100% 1/1\n",
      "Downloading: ncbi_dataset.zip    721kB 1.7MB/s\n",
      "\u001b[1A\u001b[2K\u001b[1A\u001b[2K\u001b[1A\u001b[2KCollecting 1 genome record [================================================] 100% 1/1\n",
      "Downloading: ncbi_dataset.zip    721kB 1.7MB/s\n",
      "\u001b[1A\u001b[2K\u001b[1A\u001b[2K\u001b[1A\u001b[2KCollecting 1 genome record [================================================] 100% 1/1\n",
      "Downloading: ncbi_dataset.zip    721kB 1.7MB/s\n",
      "\u001b[1A\u001b[2K\u001b[1A\u001b[2K\u001b[1A\u001b[2KCollecting 1 genome record [================================================] 100% 1/1\n",
      "Downloading: ncbi_dataset.zip    721kB 1.7MB/s\n",
      "\u001b[1A\u001b[2K\u001b[1A\u001b[2K\u001b[1A\u001b[2KCollecting 1 genome record [================================================] 100% 1/1\n",
      "Downloading: ncbi_dataset.zip    819kB 1.66MB/s\n",
      "\u001b[1A\u001b[2K\u001b[1A\u001b[2K\u001b[1A\u001b[2KCollecting 1 genome record [================================================] 100% 1/1\n",
      "Downloading: ncbi_dataset.zip    1.05MB 2.08MB/s\n",
      "\u001b[1A\u001b[2K\u001b[1A\u001b[2K\u001b[1A\u001b[2KCollecting 1 genome record [================================================] 100% 1/1\n",
      "Downloading: ncbi_dataset.zip    1.51MB 2.97MB/s\n",
      "\u001b[1A\u001b[2K\u001b[1A\u001b[2K\u001b[1A\u001b[2KCollecting 1 genome record [================================================] 100% 1/1\n",
      "Downloading: ncbi_dataset.zip    1.51MB 2.97MB/s\n",
      "\u001b[1A\u001b[2K\u001b[1A\u001b[2K\u001b[1A\u001b[2KCollecting 1 genome record [================================================] 100% 1/1\n",
      "Downloading: ncbi_dataset.zip    1.51MB 2.97MB/s\n",
      "\u001b[1A\u001b[2K\u001b[1A\u001b[2K\u001b[1A\u001b[2KCollecting 1 genome record [================================================] 100% 1/1\n",
      "Downloading: ncbi_dataset.zip    1.51MB 2.97MB/s\n",
      "\u001b[1A\u001b[2K\u001b[1A\u001b[2K\u001b[1A\u001b[2KCollecting 1 genome record [================================================] 100% 1/1\n",
      "Downloading: ncbi_dataset.zip    1.51MB 2.97MB/s\n",
      "\u001b[1A\u001b[2K\u001b[1A\u001b[2K\u001b[1A\u001b[2KCollecting 1 genome record [================================================] 100% 1/1\n",
      "Downloading: ncbi_dataset.zip    1.51MB 2.97MB/s\n",
      "\u001b[1A\u001b[2K\u001b[1A\u001b[2K\u001b[1A\u001b[2KCollecting 1 genome record [================================================] 100% 1/1\n",
      "Downloading: ncbi_dataset.zip    1.61MB 2.79MB/s\n",
      "\u001b[1A\u001b[2K\u001b[1A\u001b[2K\u001b[1A\u001b[2KCollecting 1 genome record [================================================] 100% 1/1\n",
      "Downloading: ncbi_dataset.zip    2.06MB 3.55MB/s\n",
      "\u001b[1A\u001b[2K\u001b[1A\u001b[2K\u001b[1A\u001b[2KCollecting 1 genome record [================================================] 100% 1/1\n",
      "Downloading: ncbi_dataset.zip    3.01MB 5.04MB/s\n",
      "\u001b[1A\u001b[2K\u001b[1A\u001b[2K\u001b[1A\u001b[2KCollecting 1 genome record [================================================] 100% 1/1\n",
      "Downloading: ncbi_dataset.zip    3.05MB 5.09MB/s\n",
      "\u001b[1A\u001b[2K\u001b[1A\u001b[2K\u001b[1A\u001b[2KCollecting 1 genome record [================================================] 100% 1/1\n",
      "Downloading: ncbi_dataset.zip    3.05MB 5.09MB/s\n",
      "\u001b[1A\u001b[2K\u001b[1A\u001b[2K\u001b[1A\u001b[2KCollecting 1 genome record [================================================] 100% 1/1\n",
      "Downloading: ncbi_dataset.zip    3.05MB 5.09MB/s\n",
      "\u001b[1A\u001b[2K\u001b[1A\u001b[2K\u001b[1A\u001b[2KCollecting 1 genome record [================================================] 100% 1/1\n",
      "Downloading: ncbi_dataset.zip    3.05MB 5.09MB/s\n",
      "\u001b[1A\u001b[2K\u001b[1A\u001b[2K\u001b[1A\u001b[2KCollecting 1 genome record [================================================] 100% 1/1\n",
      "Downloading: ncbi_dataset.zip    3.05MB 5.09MB/s\n",
      "\u001b[1A\u001b[2K\u001b[1A\u001b[2K\u001b[1A\u001b[2KCollecting 1 genome record [================================================] 100% 1/1\n",
      "Downloading: ncbi_dataset.zip    3.24MB 4.92MB/s\n",
      "\u001b[1A\u001b[2K\u001b[1A\u001b[2K\u001b[1A\u001b[2KCollecting 1 genome record [================================================] 100% 1/1\n",
      "Downloading: ncbi_dataset.zip    4.1MB 6.1MB/s\n",
      "\u001b[1A\u001b[2K\u001b[1A\u001b[2K\u001b[1A\u001b[2KCollecting 1 genome record [================================================] 100% 1/1\n",
      "Downloading: ncbi_dataset.zip    4.75MB 6.95MB/s\n",
      "\u001b[1A\u001b[2K\u001b[1A\u001b[2K\u001b[1A\u001b[2KCollecting 1 genome record [================================================] 100% 1/1\n",
      "Downloading: ncbi_dataset.zip    6.13MB 8.86MB/s\n",
      "\u001b[1A\u001b[2K\u001b[1A\u001b[2K\u001b[1A\u001b[2KCollecting 1 genome record [================================================] 100% 1/1\n",
      "Downloading: ncbi_dataset.zip    6.13MB 8.86MB/s\n",
      "\u001b[1A\u001b[2K\u001b[1A\u001b[2K\u001b[1A\u001b[2KCollecting 1 genome record [================================================] 100% 1/1\n",
      "Downloading: ncbi_dataset.zip    6.13MB 8.86MB/s\n",
      "\u001b[1A\u001b[2K\u001b[1A\u001b[2K\u001b[1A\u001b[2KCollecting 1 genome record [================================================] 100% 1/1\n",
      "Downloading: ncbi_dataset.zip    6.13MB 8.86MB/s\n",
      "\u001b[1A\u001b[2K\u001b[1A\u001b[2K\u001b[1A\u001b[2KCollecting 1 genome record [================================================] 100% 1/1\n",
      "Downloading: ncbi_dataset.zip    6.13MB 8.86MB/s\n",
      "\u001b[1A\u001b[2K\u001b[1A\u001b[2K\u001b[1A\u001b[2KCollecting 1 genome record [================================================] 100% 1/1\n",
      "Downloading: ncbi_dataset.zip    6.39MB 8.56MB/s\n",
      "\u001b[1A\u001b[2K\u001b[1A\u001b[2K\u001b[1A\u001b[2KCollecting 1 genome record [================================================] 100% 1/1\n",
      "Downloading: ncbi_dataset.zip    7.44MB 9.83MB/s\n",
      "\u001b[1A\u001b[2K\u001b[1A\u001b[2K\u001b[1A\u001b[2KCollecting 1 genome record [================================================] 100% 1/1\n",
      "Downloading: ncbi_dataset.zip    7.77MB 10.1MB/s\n",
      "\u001b[1A\u001b[2K\u001b[1A\u001b[2K\u001b[1A\u001b[2KCollecting 1 genome record [================================================] 100% 1/1\n",
      "Downloading: ncbi_dataset.zip    8.45MB 10.9MB/s\n",
      "\u001b[1A\u001b[2K\u001b[1A\u001b[2K\u001b[1A\u001b[2KCollecting 1 genome record [================================================] 100% 1/1\n",
      "Downloading: ncbi_dataset.zip    8.81MB 11.2MB/s\n",
      "\u001b[1A\u001b[2K\u001b[1A\u001b[2K\u001b[1A\u001b[2KCollecting 1 genome record [================================================] 100% 1/1\n",
      "Downloading: ncbi_dataset.zip    9.18MB 11.5MB/s\n",
      "\u001b[1A\u001b[2K\u001b[1A\u001b[2K\u001b[1A\u001b[2KCollecting 1 genome record [================================================] 100% 1/1\n",
      "Downloading: ncbi_dataset.zip    9.54MB 11.8MB/s\n",
      "\u001b[1A\u001b[2K\u001b[1A\u001b[2K\u001b[1A\u001b[2KCollecting 1 genome record [================================================] 100% 1/1\n",
      "Downloading: ncbi_dataset.zip    9.83MB 12MB/s\n",
      "\u001b[1A\u001b[2K\u001b[1A\u001b[2K\u001b[1A\u001b[2KCollecting 1 genome record [================================================] 100% 1/1\n",
      "Downloading: ncbi_dataset.zip    10.2MB 12.3MB/s\n",
      "\u001b[1A\u001b[2K\u001b[1A\u001b[2K\u001b[1A\u001b[2KCollecting 1 genome record [================================================] 100% 1/1\n",
      "Downloading: ncbi_dataset.zip    10.6MB 12.6MB/s\n",
      "\u001b[1A\u001b[2K\u001b[1A\u001b[2K\u001b[1A\u001b[2KCollecting 1 genome record [================================================] 100% 1/1\n",
      "Downloading: ncbi_dataset.zip    10.8MB 12.7MB/s\n",
      "\u001b[1A\u001b[2K\u001b[1A\u001b[2K\u001b[1A\u001b[2KCollecting 1 genome record [================================================] 100% 1/1\n",
      "Downloading: ncbi_dataset.zip    11.2MB 13.1MB/s\n",
      "\u001b[1A\u001b[2K\u001b[1A\u001b[2K\u001b[1A\u001b[2KCollecting 1 genome record [================================================] 100% 1/1\n",
      "Downloading: ncbi_dataset.zip    11.6MB 13.3MB/s\n",
      "\u001b[1A\u001b[2K\u001b[1A\u001b[2K\u001b[1A\u001b[2KCollecting 1 genome record [================================================] 100% 1/1\n",
      "Downloading: ncbi_dataset.zip    12MB 13.6MB/s\n",
      "\u001b[1A\u001b[2K\u001b[1A\u001b[2K\u001b[1A\u001b[2KCollecting 1 genome record [================================================] 100% 1/1\n",
      "Downloading: ncbi_dataset.zip    12.2MB 13.7MB/s\n",
      "\u001b[1A\u001b[2K\u001b[1A\u001b[2K\u001b[1A\u001b[2KCollecting 1 genome record [================================================] 100% 1/1\n",
      "Downloading: ncbi_dataset.zip    12.4MB 13.7MB/s\n",
      "\u001b[1A\u001b[2K\u001b[1A\u001b[2K\u001b[1A\u001b[2KCollecting 1 genome record [================================================] 100% 1/1\n",
      "Downloading: ncbi_dataset.zip    12.9MB 14.2MB/s\n",
      "\u001b[1A\u001b[2K\u001b[1A\u001b[2K\u001b[1A\u001b[2KCollecting 1 genome record [================================================] 100% 1/1\n",
      "Downloading: ncbi_dataset.zip    13.3MB 14.5MB/s\n",
      "\u001b[1A\u001b[2K\u001b[1A\u001b[2K\u001b[1A\u001b[2KCollecting 1 genome record [================================================] 100% 1/1\n",
      "Downloading: ncbi_dataset.zip    13.7MB 14.7MB/s\n",
      "\u001b[1A\u001b[2K\u001b[1A\u001b[2K\u001b[1A\u001b[2KCollecting 1 genome record [================================================] 100% 1/1\n",
      "Downloading: ncbi_dataset.zip    13.9MB 14.7MB/s\n",
      "\u001b[1A\u001b[2K\u001b[1A\u001b[2K\u001b[1A\u001b[2KCollecting 1 genome record [================================================] 100% 1/1\n",
      "Downloading: ncbi_dataset.zip    14.2MB 14.8MB/s\n",
      "\u001b[1A\u001b[2K\u001b[1A\u001b[2K\u001b[1A\u001b[2KCollecting 1 genome record [================================================] 100% 1/1\n",
      "Downloading: ncbi_dataset.zip    14.5MB 15.1MB/s\n",
      "\u001b[1A\u001b[2K\u001b[1A\u001b[2K\u001b[1A\u001b[2KCollecting 1 genome record [================================================] 100% 1/1\n",
      "Downloading: ncbi_dataset.zip    14.6MB 15.1MB/s\n",
      "\u001b[1A\u001b[2K\u001b[1A\u001b[2K\u001b[1A\u001b[2KCollecting 1 genome record [================================================] 100% 1/1\n",
      "Downloading: ncbi_dataset.zip    14.6MB 15.1MB/s\n",
      "\u001b[1A\u001b[2K\u001b[1A\u001b[2K\u001b[1A\u001b[2KCollecting 1 genome record [================================================] 100% 1/1\n",
      "Downloading: ncbi_dataset.zip    14.6MB 15.1MB/s\n",
      "\u001b[1A\u001b[2K\u001b[1A\u001b[2K\u001b[1A\u001b[2KCollecting 1 genome record [================================================] 100% 1/1\n",
      "Downloading: ncbi_dataset.zip    14.6MB 15.1MB/s\n",
      "\u001b[1A\u001b[2K\u001b[1A\u001b[2K\u001b[1A\u001b[2KCollecting 1 genome record [================================================] 100% 1/1\n",
      "Downloading: ncbi_dataset.zip    14.6MB 15.1MB/s\n",
      "\u001b[1A\u001b[2K\u001b[1A\u001b[2K\u001b[1A\u001b[2KCollecting 1 genome record [================================================] 100% 1/1\n",
      "Downloading: ncbi_dataset.zip    14.6MB 15.1MB/s\n",
      "\u001b[1A\u001b[2K\u001b[1A\u001b[2K\u001b[1A\u001b[2KCollecting 1 genome record [================================================] 100% 1/1\n",
      "Downloading: ncbi_dataset.zip    14.6MB 15.1MB/s\n",
      "\u001b[1A\u001b[2K\u001b[1A\u001b[2K\u001b[1A\u001b[2KCollecting 1 genome record [================================================] 100% 1/1\n",
      "Downloading: ncbi_dataset.zip    14.6MB 15.1MB/s\n",
      "\u001b[1A\u001b[2K\u001b[1A\u001b[2K\u001b[1A\u001b[2KCollecting 1 genome record [================================================] 100% 1/1\n",
      "Downloading: ncbi_dataset.zip    14.6MB 15.1MB/s\n",
      "\u001b[1A\u001b[2K\u001b[1A\u001b[2K\u001b[1A\u001b[2KCollecting 1 genome record [================================================] 100% 1/1\n",
      "Downloading: ncbi_dataset.zip    14.6MB 15.1MB/s\n",
      "\u001b[1A\u001b[2K\u001b[1A\u001b[2K\u001b[1A\u001b[2KCollecting 1 genome record [================================================] 100% 1/1\n",
      "Downloading: ncbi_dataset.zip    14.6MB 15.1MB/s\n",
      "\u001b[1A\u001b[2K\u001b[1A\u001b[2K\u001b[1A\u001b[2KCollecting 1 genome record [================================================] 100% 1/1\n",
      "Downloading: ncbi_dataset.zip    14.6MB 15.1MB/s\n",
      "\u001b[1A\u001b[2K\u001b[1A\u001b[2K\u001b[1A\u001b[2KCollecting 1 genome record [================================================] 100% 1/1\n",
      "Downloading: ncbi_dataset.zip    14.6MB 15.1MB/s\n",
      "\u001b[1A\u001b[2K\u001b[1A\u001b[2K\u001b[1A\u001b[2KCollecting 1 genome record [================================================] 100% 1/1\n",
      "Downloading: ncbi_dataset.zip    14.6MB 15.1MB/s\n",
      "\u001b[1A\u001b[2K\u001b[1A\u001b[2K\u001b[1A\u001b[2KCollecting 1 genome record [================================================] 100% 1/1\n",
      "Downloading: ncbi_dataset.zip    14.6MB 15.1MB/s\n",
      "\u001b[1A\u001b[2K\u001b[1A\u001b[2K\u001b[1A\u001b[2KCollecting 1 genome record [================================================] 100% 1/1\n",
      "Downloading: ncbi_dataset.zip    14.6MB 15.1MB/s\n",
      "\u001b[1A\u001b[2K\u001b[1A\u001b[2K\u001b[1A\u001b[2KCollecting 1 genome record [================================================] 100% 1/1\n",
      "Downloading: ncbi_dataset.zip    14.6MB 15.1MB/s\n",
      "\u001b[1A\u001b[2K\u001b[1A\u001b[2K\u001b[1A\u001b[2KCollecting 1 genome record [================================================] 100% 1/1\n",
      "Downloading: ncbi_dataset.zip    14.6MB 15.1MB/s\n",
      "\u001b[1A\u001b[2K\u001b[1A\u001b[2K\u001b[1A\u001b[2KCollecting 1 genome record [================================================] 100% 1/1\n",
      "Downloading: ncbi_dataset.zip    14.6MB 15.1MB/s\n",
      "\u001b[1A\u001b[2K\u001b[1A\u001b[2K\u001b[1A\u001b[2KCollecting 1 genome record [================================================] 100% 1/1\n",
      "Downloading: ncbi_dataset.zip    14.6MB 15.1MB/s\n",
      "\u001b[1A\u001b[2K\u001b[1A\u001b[2K\u001b[1A\u001b[2KCollecting 1 genome record [================================================] 100% 1/1\n",
      "Downloading: ncbi_dataset.zip    14.6MB 15.1MB/s\n",
      "\u001b[1A\u001b[2K\u001b[1A\u001b[2K\u001b[1A\u001b[2KCollecting 1 genome record [================================================] 100% 1/1\n",
      "Downloading: ncbi_dataset.zip    14.6MB 15.1MB/s\n",
      "\u001b[1A\u001b[2K\u001b[1A\u001b[2K\u001b[1A\u001b[2KCollecting 1 genome record [================================================] 100% 1/1\n",
      "Downloading: ncbi_dataset.zip    14.6MB 15.1MB/s\n",
      "\u001b[1A\u001b[2K\u001b[1A\u001b[2K\u001b[1A\u001b[2KCollecting 1 genome record [================================================] 100% 1/1\n",
      "Downloading: ncbi_dataset.zip    14.6MB 15.1MB/s\n",
      "\u001b[1A\u001b[2K\u001b[1A\u001b[2K\u001b[1A\u001b[2KCollecting 1 genome record [================================================] 100% 1/1\n",
      "Downloading: ncbi_dataset.zip    14.6MB 15.1MB/s\n",
      "\u001b[1A\u001b[2K\u001b[1A\u001b[2K\u001b[1A\u001b[2KCollecting 1 genome record [================================================] 100% 1/1\n",
      "Downloading: ncbi_dataset.zip    14.6MB 15.1MB/s\n",
      "\u001b[1A\u001b[2K\u001b[1A\u001b[2K\u001b[1A\u001b[2KCollecting 1 genome record [================================================] 100% 1/1\n",
      "Downloading: ncbi_dataset.zip    14.6MB 15.1MB/s\n",
      "\u001b[1A\u001b[2K\u001b[1A\u001b[2K\u001b[1A\u001b[2KCollecting 1 genome record [================================================] 100% 1/1\n",
      "Downloading: ncbi_dataset.zip    14.6MB 15.1MB/s\n",
      "\u001b[1A\u001b[2K\u001b[1A\u001b[2K\u001b[1A\u001b[2KCollecting 1 genome record [================================================] 100% 1/1\n",
      "Downloading: ncbi_dataset.zip    14.6MB 15.1MB/s\n",
      "\u001b[1A\u001b[2K\u001b[1A\u001b[2K\u001b[1A\u001b[2KCollecting 1 genome record [================================================] 100% 1/1\n",
      "Downloading: ncbi_dataset.zip    14.6MB 15.1MB/s\n",
      "\u001b[1A\u001b[2K\u001b[1A\u001b[2K\u001b[1A\u001b[2KCollecting 1 genome record [================================================] 100% 1/1\n",
      "Downloading: ncbi_dataset.zip    14.6MB 15.1MB/s\n",
      "\u001b[1A\u001b[2K\u001b[1A\u001b[2K\u001b[1A\u001b[2KCollecting 1 genome record [================================================] 100% 1/1\n",
      "Downloading: ncbi_dataset.zip    14.6MB 15.1MB/s\n",
      "\u001b[1A\u001b[2K\u001b[1A\u001b[2K\u001b[1A\u001b[2KCollecting 1 genome record [================================================] 100% 1/1\n",
      "Downloading: ncbi_dataset.zip    14.6MB 15.1MB/s\n",
      "\u001b[1A\u001b[2K\u001b[1A\u001b[2K\u001b[1A\u001b[2KCollecting 1 genome record [================================================] 100% 1/1\n",
      "Downloading: ncbi_dataset.zip    14.6MB 15.1MB/s\n",
      "\u001b[1A\u001b[2K\u001b[1A\u001b[2K\u001b[1A\u001b[2KCollecting 1 genome record [================================================] 100% 1/1\n",
      "Downloading: ncbi_dataset.zip    14.6MB 15.1MB/s\n",
      "\u001b[1A\u001b[2K\u001b[1A\u001b[2K\u001b[1A\u001b[2KCollecting 1 genome record [================================================] 100% 1/1\n",
      "Downloading: ncbi_dataset.zip    14.8MB 11.1MB/s\n",
      "\u001b[1A\u001b[2K\u001b[1A\u001b[2K\u001b[1A\u001b[2KCollecting 1 genome record [================================================] 100% 1/1\n",
      "Downloading: ncbi_dataset.zip    15.1MB 11.2MB/s\n",
      "\u001b[1A\u001b[2K\u001b[1A\u001b[2K\u001b[1A\u001b[2KCollecting 1 genome record [================================================] 100% 1/1\n",
      "Downloading: ncbi_dataset.zip    15.5MB 11.4MB/s\n",
      "\u001b[1A\u001b[2K\u001b[1A\u001b[2K\u001b[1A\u001b[2KCollecting 1 genome record [================================================] 100% 1/1\n",
      "Downloading: ncbi_dataset.zip    15.8MB 11.6MB/s\n",
      "\u001b[1A\u001b[2K\u001b[1A\u001b[2K\u001b[1A\u001b[2KCollecting 1 genome record [================================================] 100% 1/1\n",
      "Downloading: ncbi_dataset.zip    16.2MB 11.7MB/s\n",
      "\u001b[1A\u001b[2K\u001b[1A\u001b[2K\u001b[1A\u001b[2KCollecting 1 genome record [================================================] 100% 1/1\n",
      "Downloading: ncbi_dataset.zip    16.5MB 11.9MB/s\n",
      "\u001b[1A\u001b[2K\u001b[1A\u001b[2K\u001b[1A\u001b[2KCollecting 1 genome record [================================================] 100% 1/1\n",
      "Downloading: ncbi_dataset.zip    16.9MB 12.1MB/s\n",
      "\u001b[1A\u001b[2K\u001b[1A\u001b[2K\u001b[1A\u001b[2KCollecting 1 genome record [================================================] 100% 1/1\n",
      "Downloading: ncbi_dataset.zip    17.2MB 12.2MB/s\n",
      "\u001b[1A\u001b[2K\u001b[1A\u001b[2K\u001b[1A\u001b[2KCollecting 1 genome record [================================================] 100% 1/1\n",
      "Downloading: ncbi_dataset.zip    17.5MB 12.4MB/s\n",
      "\u001b[1A\u001b[2K\u001b[1A\u001b[2K\u001b[1A\u001b[2KCollecting 1 genome record [================================================] 100% 1/1\n",
      "Downloading: ncbi_dataset.zip    17.9MB 12.5MB/s\n",
      "\u001b[1A\u001b[2K\u001b[1A\u001b[2K\u001b[1A\u001b[2KCollecting 1 genome record [================================================] 100% 1/1\n",
      "Downloading: ncbi_dataset.zip    18.3MB 12.7MB/s\n",
      "\u001b[1A\u001b[2K\u001b[1A\u001b[2K\u001b[1A\u001b[2KCollecting 1 genome record [================================================] 100% 1/1\n",
      "Downloading: ncbi_dataset.zip    18.6MB 12.8MB/s\n",
      "\u001b[1A\u001b[2K\u001b[1A\u001b[2K\u001b[1A\u001b[2KCollecting 1 genome record [================================================] 100% 1/1\n",
      "Downloading: ncbi_dataset.zip    18.9MB 13MB/s\n",
      "\u001b[1A\u001b[2K\u001b[1A\u001b[2K\u001b[1A\u001b[2KCollecting 1 genome record [================================================] 100% 1/1\n",
      "Downloading: ncbi_dataset.zip    19.1MB valid zip structure -- files not checked\n",
      "Validating package [================================================] 100% 6/6\n"
     ]
    }
   ],
   "source": [
    "!datasets download genome accession GCF_000002775.4 --chromosomes 5 --include genome,gtf \n",
    " "
   ]
  },
  {
   "cell_type": "code",
   "execution_count": 8,
   "id": "d32c54c0",
   "metadata": {},
   "outputs": [
    {
     "name": "stdout",
     "output_type": "stream",
     "text": [
      "Archive:  ncbi_dataset.zip\n",
      "  inflating: PtRefSeq/README.md      \n",
      "  inflating: PtRefSeq/ncbi_dataset/data/assembly_data_report.jsonl  \n",
      "  inflating: PtRefSeq/ncbi_dataset/data/GCF_000002775.4/chr5.fna  \n",
      "  inflating: PtRefSeq/ncbi_dataset/data/GCF_000002775.4/genomic.gtf  \n",
      "  inflating: PtRefSeq/ncbi_dataset/data/dataset_catalog.json  \n",
      "  inflating: PtRefSeq/md5sum.txt     \n"
     ]
    }
   ],
   "source": [
    "!unzip -o ncbi_dataset.zip -d PtRefSeq"
   ]
  },
  {
   "cell_type": "markdown",
   "id": "positive-baker",
   "metadata": {},
   "source": [
    "Magic-BLAST requires a BLAST database in order to align the reads."
   ]
  },
  {
   "cell_type": "code",
   "execution_count": 11,
   "id": "b8c8a1ca",
   "metadata": {},
   "outputs": [
    {
     "name": "stdout",
     "output_type": "stream",
     "text": [
      "\n",
      "\n",
      "Building a new DB, current time: 09/26/2024 12:59:37\n",
      "New DB name:   /workspaces/finding-data-demo-08-21/PtRefSeq/Pt.chrom5\n",
      "New DB title:  PtRefSeq/ncbi_dataset/data/GCF_000002775.4/chr5.fna\n",
      "Sequence type: Nucleotide\n",
      "Keep MBits: T\n",
      "Maximum file size: 3000000000B\n",
      "Adding sequences from FASTA; added 1 sequences in 0.347658 seconds.\n",
      "\n",
      "\n"
     ]
    }
   ],
   "source": [
    "!makeblastdb -in PtRefSeq/ncbi_dataset/data/GCF_000002775.4/chr5.fna -dbtype nucl -parse_seqids -out PtRefSeq/Pt.chrom5\n"
   ]
  },
  {
   "cell_type": "markdown",
   "id": "featured-crash",
   "metadata": {},
   "source": [
    "## Align Fastq Files to Reference Genome to Produce Bams using Magic-BLAST\n",
    "\n",
    "Magic-BLAST is a tool for mapping large next-generation RNA or DNA sequencing runs against a whole genome or transcriptome. Each alignment optimizes a composite score, taking into account simultaneously the two reads of a pair, and in case of RNA-seq, locating the candidate introns and adding up the score of all exons. This is very different from other versions of BLAST, where each exon is scored as a separate hit and read-pairing is ignored."
   ]
  },
  {
   "cell_type": "markdown",
   "id": "substantial-spare",
   "metadata": {},
   "source": [
    "Create a location to store the bams."
   ]
  },
  {
   "cell_type": "code",
   "execution_count": 12,
   "id": "cf4dd44f",
   "metadata": {},
   "outputs": [],
   "source": [
    "!mkdir bams"
   ]
  },
  {
   "cell_type": "markdown",
   "id": "revised-accent",
   "metadata": {},
   "source": [
    "This next command limits the number of bases that are input into the magicblast command before running it. The default is 50M. The only reason the value is being set lower is to allow this notebook to work on the binder server, which as a 2 GB virtual memory limit. If the limit is still too high when running the notebook, try reducing the BATCH_SIZE to 5000000. "
   ]
  },
  {
   "cell_type": "code",
   "execution_count": 13,
   "id": "aware-resistance",
   "metadata": {},
   "outputs": [
    {
     "name": "stdout",
     "output_type": "stream",
     "text": [
      "env: BATCH_SIZE=7500000\n"
     ]
    }
   ],
   "source": [
    "%env BATCH_SIZE=7500000"
   ]
  },
  {
   "cell_type": "markdown",
   "id": "differential-kruger",
   "metadata": {},
   "source": [
    "Magic-BLAST has a variety of parameters that can be set. In this example, we are setting the parameters:\n",
    "\n",
    "* *splice* is *True* (transcriptomic data)\n",
    "* *no_unaligned* (to reduce the file size that is generated)\n",
    "* *max_db_word_count* is 10 to reduce virtual memory demand (Magicblast rejects 16-base word matches between input reads and the target database if this word appears in the database more than <number> of times. The default is 30.\n",
    "\n",
    "Samtools\n",
    "\n",
    "The default output type for MagicBlast is a sam file, so we pipe it into samtools to make a bam for later viewing on the Genome Data Viewer. The sort command has a large virtual memory command.\n",
    "\n",
    "* *-m* parameter is set to 250M to reduce load in this binder notebook (it can be removed on your own machine)\\\n",
    "\n",
    "The first example only runs magicblast on a single file.\n",
    "\n",
    "To run the program on all of the files, then uncomment the advanced cell which takes in the entire list of fastq files and runs magicblast. This will take longer.\n"
   ]
  },
  {
   "cell_type": "code",
   "execution_count": 20,
   "id": "3c9ce308",
   "metadata": {},
   "outputs": [],
   "source": [
    "!magicblast -query data/SRR3241538.fastq -db PtRefSeq/Pt.chrom5 -splice T -no_unaligned -infmt fastq -max_db_word_count 10 | \\\n",
    "samtools view -bS | samtools sort -m 250M -o bams/SRR3241538.bam -O BAM"
   ]
  },
  {
   "cell_type": "markdown",
   "id": "86dd6bc9-ee97-40a0-84bb-892021673e52",
   "metadata": {},
   "source": [
    "### Optional\n",
    "\n",
    "Only uncomment and run this next code cell if you want to get all of the bams generated.\n",
    "\n",
    "This is not advised on a smaller or temporary machine, so proceed with caution."
   ]
  },
  {
   "cell_type": "code",
   "execution_count": null,
   "id": "99598cfd-a7b7-4071-9d47-7c51686f942d",
   "metadata": {},
   "outputs": [],
   "source": [
    "#!cat accessionlist.txt | xargs -I {} -P 12 -n 1 echo \"magicblast -query data/{}.fastq -db PtRefSeq/Pt.chrom5 -splice T -no_unaligned -infmt fastq -max_db_word_count 10 | \\\n",
    "samtools view -bS | samtools sort -m 250M -o bams/{}.bam -O BAM\" | xargs -I {} -P 12  -n 1 sh -c {}"
   ]
  },
  {
   "cell_type": "markdown",
   "id": "weekly-scheduling",
   "metadata": {},
   "source": [
    "The bam files need to be indexed to be used in Genome Data Viewer."
   ]
  },
  {
   "cell_type": "code",
   "execution_count": null,
   "id": "minute-image",
   "metadata": {},
   "outputs": [],
   "source": [
    "!ls bams"
   ]
  },
  {
   "cell_type": "code",
   "execution_count": 10,
   "id": "3700aacd",
   "metadata": {
    "jupyter": {
     "source_hidden": true
    }
   },
   "outputs": [],
   "source": [
    "!for i in bams/*.bam; do samtools index $i; done"
   ]
  },
  {
   "cell_type": "code",
   "execution_count": 11,
   "id": "d88b5187-5ffc-4a09-b283-58f7169b461a",
   "metadata": {
    "jupyter": {
     "source_hidden": true
    }
   },
   "outputs": [
    {
     "name": "stdout",
     "output_type": "stream",
     "text": [
      "SRR3241538.bam\tSRR3241538.bam.bai\n"
     ]
    }
   ],
   "source": [
    "!ls bams"
   ]
  },
  {
   "cell_type": "code",
   "execution_count": 14,
   "id": "85feb256",
   "metadata": {},
   "outputs": [],
   "source": [
    "#If you are using your own accession list, you can generate the list of command by running this bash command after removing the \"#\" from the beginning of each line\n",
    "\n",
    "#!cat accessionlist.txt| while read line;do \\\n",
    "#echo \"magicblast -query data/$line.fastq -db Pt.chrom5 -splice T -no_unaligned -infmt fastq -max_db_word_count 10 | \\\n",
    "#samtools view -bS | samtools sort -m 250M -o bams/$line.bam -O BAM\"; done"
   ]
  },
  {
   "cell_type": "code",
   "execution_count": null,
   "id": "orange-butler",
   "metadata": {},
   "outputs": [],
   "source": [
    "#If you wish to continue with analyzing the bam files in this notebook, here is a shortcut code. \n",
    "#Just remove the # in front of the following two lines to run them.\n",
    "\n",
    "#!cat accessionlist.txt | xargs -I % wget -O bams/%.bam https://ftp.ncbi.nlm.nih.gov/pub/education/public_webinars/2021/08Aug18_Res_Org_2/A_bams/%.bam\n",
    "#!cat accessionlist.txt | xargs -I % wget -O bams/%.bam.bai https://ftp.ncbi.nlm.nih.gov/pub/education/public_webinars/2021/08Aug18_Res_Org_2/A_bams/%.bam.bai"
   ]
  },
  {
   "cell_type": "markdown",
   "id": "balanced-dover",
   "metadata": {},
   "source": [
    "A few of the tracks (one for Day 0, One for Day 5 and one for Day 7) have been entered and can be viewed by following this link which will be available until November 16, 2021 (90 days after creation).\n",
    "\n",
    "https://www.ncbi.nlm.nih.gov/gdv/browser/genome/?cfg=NCID_1_24240396_130.14.18.128_9146_1727365366_4193793915\n",
    "\n",
    "\n",
    "If the link has expired, \n",
    "\n",
    "1.) Navigate to the GDV Viewer for Populus trichocarpus chromosome 5\n",
    "\n",
    "![Navigate to Chromosome 5](img/navigate_GDV_Viewer.png)\n",
    "\n",
    "2.) Upon opening GDV Viewer, the bam files and their corresponding indexes can be loaded using the remote files that we have put into our ftp repository (GDV does not currently support local uploads of bam files).\n",
    "\n",
    "Make sure to select the same version of the genome that was downloaded from datasets.\n",
    "\n",
    "![Genome Version](img/genome_version.png)\n",
    "\n",
    "Loading all 12 files may make it difficult to view in one webpage, so we have chosen just three of the files form different treatment days for our demo.\n",
    "\n",
    "One each from Day 0, Day 5, and Day 7.\n",
    "\n",
    "These links can be used if you want more practice loading remote files into Genome Data Viewer.\n",
    "\n",
    "\n",
    "https://ftp.ncbi.nlm.nih.gov/pub/education/public_webinars/2021/08Aug18_Res_Org_2/A_bams/SRR3241527.bam\n",
    "https://ftp.ncbi.nlm.nih.gov/pub/education/public_webinars/2021/08Aug18_Res_Org_2/A_bams/SRR3241528.bam\n",
    "https://ftp.ncbi.nlm.nih.gov/pub/education/public_webinars/2021/08Aug18_Res_Org_2/A_bams/SRR3241529.bam\n",
    "https://ftp.ncbi.nlm.nih.gov/pub/education/public_webinars/2021/08Aug18_Res_Org_2/A_bams/SRR3241530.bam\n",
    "https://ftp.ncbi.nlm.nih.gov/pub/education/public_webinars/2021/08Aug18_Res_Org_2/A_bams/SRR3241531.bam\n",
    "https://ftp.ncbi.nlm.nih.gov/pub/education/public_webinars/2021/08Aug18_Res_Org_2/A_bams/SRR3241532.bam\n",
    "https://ftp.ncbi.nlm.nih.gov/pub/education/public_webinars/2021/08Aug18_Res_Org_2/A_bams/SRR3241533.bam\n",
    "https://ftp.ncbi.nlm.nih.gov/pub/education/public_webinars/2021/08Aug18_Res_Org_2/A_bams/SRR3241534.bam\n",
    "https://ftp.ncbi.nlm.nih.gov/pub/education/public_webinars/2021/08Aug18_Res_Org_2/A_bams/SRR3241535.bam\n",
    "https://ftp.ncbi.nlm.nih.gov/pub/education/public_webinars/2021/08Aug18_Res_Org_2/A_bams/SRR3241536.bam\n",
    "https://ftp.ncbi.nlm.nih.gov/pub/education/public_webinars/2021/08Aug18_Res_Org_2/A_bams/SRR3241537.bam\n",
    "https://ftp.ncbi.nlm.nih.gov/pub/education/public_webinars/2021/08Aug18_Res_Org_2/A_bams/SRR3241538.bam\n",
    "\n",
    "\n",
    "\n",
    "![How to load remote files](img/add_remote_track.png)\n",
    "\n",
    "\n"
   ]
  },
  {
   "cell_type": "markdown",
   "id": "exclusive-audience",
   "metadata": {},
   "source": [
    "If you want to load your own remote files into GDV Viewer, it is possible using your Github repository for files that are less than 1 GB. Just use the following file format based on the location of your file in the repository.\n",
    "\n",
    "This file has been added to this repository for testing this option.\n",
    "\n",
    "https://github.com/BlueBicycleBlog/finding-data-demo-08-21/raw/master/SRR3241537.bam\n",
    "\n",
    "Make sure the `bam` files and the `bam.bai` fils are in the same location in your repository.\n",
    "\n"
   ]
  },
  {
   "cell_type": "markdown",
   "id": "771b86d2",
   "metadata": {},
   "source": [
    "Read More about the research project that produced this data set.\n",
    "\n",
    "https://www.ncbi.nlm.nih.gov/geo/query/acc.cgi?acc=GSE79401\n",
    "\n",
    "Li S, Lin YJ, Wang P, Zhang B et al. The AREB1 Transcription Factor Influences Histone Acetylation to Regulate Drought Responses and Tolerance in <i>Populus trichocarpa</i>. Plant Cell 2019 Mar;31(3):663-686. \n",
    "\n",
    "[PubMed Link to Publication](https://pubmed.ncbi.nlm.nih.gov/30538157/)\n",
    "\n",
    "[Link to Publication where Supplemental Links Work](https://academic.oup.com/plcell/article/31/3/663/5985576?login=false)\n",
    "\n",
    "\n",
    "One of the findings in the paper is that the ADA2 genes may confer drought tolerance\n",
    "\n",
    "The main gene for ADA2 is not on the chromosome mapped here, but doing a searcher for \"ADA2\" in the Genome viewer brought us to an interesting set of coordinates in Chromosome 5.\n",
    "\n",
    "![Possible Alternative Transcription in SRM1](img/alternative_transcription.png)\n",
    "\n",
    "The gene that is in the main screen of the genome viewer when clicking on the link provided is \"SRM1\", also known as Salt-Related MYB1.\n",
    "\n",
    "This is a gene that can impact vegetation growth and leaf shape.\n",
    "\n",
    "In this snapshot, looking at the first exon in the putative gene shows that a more complete version of the first exonic region appears to be active on Days 5 and 7 when compared to Day 0.\n",
    "\n",
    "Try loading the other bam files to see if the replicates support this finding.\n",
    "\n",
    "All the bam file links have been provided.\n",
    "\n",
    "\n",
    "\n",
    "\n",
    "\n"
   ]
  },
  {
   "cell_type": "code",
   "execution_count": null,
   "id": "4277a0cf",
   "metadata": {},
   "outputs": [],
   "source": []
  }
 ],
 "metadata": {
  "kernelspec": {
   "display_name": "Python 3 (ipykernel)",
   "language": "python",
   "name": "python3"
  },
  "language_info": {
   "codemirror_mode": {
    "name": "ipython",
    "version": 3
   },
   "file_extension": ".py",
   "mimetype": "text/x-python",
   "name": "python",
   "nbconvert_exporter": "python",
   "pygments_lexer": "ipython3",
   "version": "3.12.1"
  }
 },
 "nbformat": 4,
 "nbformat_minor": 5
}
